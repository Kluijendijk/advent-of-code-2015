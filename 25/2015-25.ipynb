{
 "cells": [
  {
   "cell_type": "code",
   "execution_count": 35,
   "id": "deb196be",
   "metadata": {
    "ExecuteTime": {
     "end_time": "2022-03-31T20:32:14.878000+02:00",
     "start_time": "2022-03-31T18:32:14.481Z"
    }
   },
   "outputs": [
    {
     "data": {
      "text/plain": [
       "(3010, 3019)"
      ]
     },
     "execution_count": 35,
     "metadata": {},
     "output_type": "execute_result"
    }
   ],
   "source": [
    "p = r\"To continue, please consult the code grid in the manual.  Enter the code at row (\\d*), column (\\d*).\"\n",
    "input = match(p, read(\"input.txt\", String))\n",
    "first_code = 20151125\n",
    "row, column = parse(Int, input[1]), parse(Int, input[2])"
   ]
  },
  {
   "cell_type": "markdown",
   "id": "b8ebdc72",
   "metadata": {
    "ExecuteTime": {
     "end_time": "2022-03-31T19:50:04.474000+02:00",
     "start_time": "2022-03-31T17:50:00.058Z"
    }
   },
   "source": [
    "Number of operations needed to get to value in (r, c) = $$\\frac{c*(c+1) + (r-1)*(2c+r-2)}{2}$$"
   ]
  },
  {
   "cell_type": "code",
   "execution_count": 33,
   "id": "596933fd",
   "metadata": {
    "ExecuteTime": {
     "end_time": "2022-03-31T20:30:59.349000+02:00",
     "start_time": "2022-03-31T18:30:59.341Z"
    }
   },
   "outputs": [
    {
     "data": {
      "text/plain": [
       "16.0"
      ]
     },
     "execution_count": 33,
     "metadata": {},
     "output_type": "execute_result"
    }
   ],
   "source": [
    "function operations_to(r, c)\n",
    "    (c * (c+1) + (r-1) * (c + c + r - 2))/2\n",
    "end\n",
    "operations_to(6, 1)"
   ]
  },
  {
   "cell_type": "code",
   "execution_count": 36,
   "id": "2b334b61",
   "metadata": {
    "ExecuteTime": {
     "end_time": "2022-03-31T20:32:17.287000+02:00",
     "start_time": "2022-03-31T18:32:17.285Z"
    },
    "scrolled": true
   },
   "outputs": [
    {
     "data": {
      "text/plain": [
       "1.8168397e7"
      ]
     },
     "execution_count": 36,
     "metadata": {},
     "output_type": "execute_result"
    }
   ],
   "source": [
    "operations_to(row, column)"
   ]
  },
  {
   "cell_type": "code",
   "execution_count": 39,
   "id": "bf6c1a97",
   "metadata": {
    "ExecuteTime": {
     "end_time": "2022-03-31T20:34:56.377000+02:00",
     "start_time": "2022-03-31T18:34:51.777Z"
    }
   },
   "outputs": [
    {
     "data": {
      "text/plain": [
       "8997277"
      ]
     },
     "execution_count": 39,
     "metadata": {},
     "output_type": "execute_result"
    }
   ],
   "source": [
    "val = first_code\n",
    "for _ in 2:operations_to(row, column)\n",
    "    val *= 252533\n",
    "    val %= 33554393\n",
    "end\n",
    "val"
   ]
  },
  {
   "cell_type": "code",
   "execution_count": null,
   "id": "146ae369",
   "metadata": {
    "ExecuteTime": {
     "end_time": "2022-03-31T19:48:14.102000+02:00",
     "start_time": "2022-03-31T17:48:05.555Z"
    },
    "scrolled": false
   },
   "outputs": [],
   "source": []
  },
  {
   "cell_type": "code",
   "execution_count": null,
   "id": "62d7a4b2",
   "metadata": {
    "ExecuteTime": {
     "end_time": "2022-03-30T15:21:36.667000+02:00",
     "start_time": "2022-03-30T13:18:18.597Z"
    }
   },
   "outputs": [],
   "source": []
  },
  {
   "cell_type": "code",
   "execution_count": null,
   "id": "2c1f9e6e",
   "metadata": {
    "ExecuteTime": {
     "end_time": "2022-03-29T17:23:01.539000+02:00",
     "start_time": "2022-03-29T15:23:01.538Z"
    }
   },
   "outputs": [],
   "source": []
  },
  {
   "cell_type": "code",
   "execution_count": null,
   "id": "d3b50a10",
   "metadata": {
    "ExecuteTime": {
     "end_time": "2022-03-29T17:12:09.658000+02:00",
     "start_time": "2022-03-29T15:12:09.610Z"
    }
   },
   "outputs": [],
   "source": []
  },
  {
   "cell_type": "code",
   "execution_count": null,
   "id": "4ea9b8b3",
   "metadata": {
    "ExecuteTime": {
     "end_time": "2022-03-29T17:21:25.811000+02:00",
     "start_time": "2022-03-29T15:21:25.774Z"
    }
   },
   "outputs": [],
   "source": []
  },
  {
   "cell_type": "code",
   "execution_count": null,
   "id": "54705f5e",
   "metadata": {},
   "outputs": [],
   "source": []
  },
  {
   "cell_type": "code",
   "execution_count": null,
   "id": "00ed0948",
   "metadata": {},
   "outputs": [],
   "source": []
  }
 ],
 "metadata": {
  "kernelspec": {
   "display_name": "Julia 1.7.0",
   "language": "julia",
   "name": "julia-1.7"
  },
  "language_info": {
   "file_extension": ".jl",
   "mimetype": "application/julia",
   "name": "julia",
   "version": "1.7.0"
  }
 },
 "nbformat": 4,
 "nbformat_minor": 5
}
