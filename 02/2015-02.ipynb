{
 "cells": [
  {
   "cell_type": "code",
   "execution_count": 2,
   "id": "deb196be",
   "metadata": {},
   "outputs": [
    {
     "data": {
      "text/plain": [
       "1000×3 Matrix{Int64}:\n",
       "  3  11  24\n",
       " 13   5  19\n",
       "  1   9  27\n",
       " 24   8  21\n",
       "  6   8  17\n",
       " 19  18  22\n",
       " 10   9  12\n",
       " 12   2   5\n",
       " 26   6  11\n",
       "  9  23  15\n",
       " 12   8  17\n",
       " 13  29  10\n",
       " 28  18   6\n",
       "  ⋮      \n",
       " 29  17  29\n",
       " 21   8  12\n",
       " 21   9  11\n",
       " 20   1  27\n",
       "  1  22  11\n",
       "  5  28   4\n",
       " 26   7  26\n",
       " 30  12  18\n",
       " 29  11  20\n",
       "  3  12  15\n",
       " 24  25  17\n",
       " 14   6  11"
      ]
     },
     "execution_count": 2,
     "metadata": {},
     "output_type": "execute_result"
    }
   ],
   "source": [
    "using DelimitedFiles\n",
    "data = readdlm(\"input.txt\", 'x', Int)\n",
    "data"
   ]
  },
  {
   "cell_type": "code",
   "execution_count": 3,
   "id": "2c48bc25",
   "metadata": {},
   "outputs": [
    {
     "name": "stdout",
     "output_type": "stream",
     "text": [
      "1588178\n"
     ]
    }
   ],
   "source": [
    "sumprods = 0\n",
    "for i in range(1, size(data, 1))\n",
    "    l = data[i, 1]\n",
    "    w = data[i, 2]\n",
    "    h = data[i, 3]\n",
    "    sumprods += 2*(l*w + w*h + l*h) + min(l*w, w*h, l*h)\n",
    "end\n",
    "println(sumprods)"
   ]
  },
  {
   "cell_type": "code",
   "execution_count": 6,
   "id": "3fa10daa",
   "metadata": {
    "scrolled": false
   },
   "outputs": [
    {
     "name": "stdout",
     "output_type": "stream",
     "text": [
      "3783758\n"
     ]
    }
   ],
   "source": [
    "#part 2\n",
    "sumprods = 0\n",
    "for i in range(1, size(data, 1))\n",
    "    data[i, :] = sort(data[i, :])\n",
    "    sumprods += 2*(data[i, 1] + data[i, 2]) + prod(data[i, :])\n",
    "end\n",
    "println(sumprods)"
   ]
  },
  {
   "cell_type": "code",
   "execution_count": 5,
   "id": "587793fc",
   "metadata": {},
   "outputs": [
    {
     "data": {
      "text/plain": [
       "3-element Vector{Int64}:\n",
       "  1\n",
       "  9\n",
       " 27"
      ]
     },
     "execution_count": 5,
     "metadata": {},
     "output_type": "execute_result"
    }
   ],
   "source": []
  },
  {
   "cell_type": "code",
   "execution_count": null,
   "id": "b319a42c",
   "metadata": {},
   "outputs": [],
   "source": []
  }
 ],
 "metadata": {
  "kernelspec": {
   "display_name": "Julia 1.7.0",
   "language": "julia",
   "name": "julia-1.7"
  },
  "language_info": {
   "file_extension": ".jl",
   "mimetype": "application/julia",
   "name": "julia",
   "version": "1.7.0"
  }
 },
 "nbformat": 4,
 "nbformat_minor": 5
}
