{
 "cells": [
  {
   "cell_type": "code",
   "execution_count": 1,
   "id": "deb196be",
   "metadata": {
    "ExecuteTime": {
     "end_time": "2022-03-20T02:30:18.360000+01:00",
     "start_time": "2022-03-20T01:30:10.382Z"
    },
    "scrolled": true
   },
   "outputs": [
    {
     "data": {
      "text/plain": [
       "\"1113122113\""
      ]
     },
     "execution_count": 1,
     "metadata": {},
     "output_type": "execute_result"
    }
   ],
   "source": [
    "data = \"1113122113\""
   ]
  },
  {
   "cell_type": "code",
   "execution_count": 2,
   "id": "2c48bc25",
   "metadata": {
    "ExecuteTime": {
     "end_time": "2022-03-20T02:30:18.616000+01:00",
     "start_time": "2022-03-20T01:30:11.006Z"
    },
    "scrolled": false
   },
   "outputs": [
    {
     "data": {
      "text/plain": [
       "cycle (generic function with 1 method)"
      ]
     },
     "execution_count": 2,
     "metadata": {},
     "output_type": "execute_result"
    }
   ],
   "source": [
    "p = r\"(?<value>\\d)\\1*\"\n",
    "function cycle(s)\n",
    "    p = r\"(?<value>\\d)\\1*\"\n",
    "    out = (string(length(i.match), i[\"value\"]) for i in eachmatch(p, s))\n",
    "    out = reduce(*, out)\n",
    "    return out\n",
    "end"
   ]
  },
  {
   "cell_type": "code",
   "execution_count": 3,
   "id": "292c9238",
   "metadata": {
    "ExecuteTime": {
     "end_time": "2022-03-20T02:30:36.633000+01:00",
     "start_time": "2022-03-20T01:30:11.842Z"
    }
   },
   "outputs": [
    {
     "name": "stdout",
     "output_type": "stream",
     "text": [
      "360154\n"
     ]
    }
   ],
   "source": [
    "s = data\n",
    "for i in 1:40\n",
    "    s = cycle(s)\n",
    "end\n",
    "println(length(s))"
   ]
  },
  {
   "cell_type": "code",
   "execution_count": 4,
   "id": "3fa10daa",
   "metadata": {
    "ExecuteTime": {
     "end_time": "2022-03-20T04:00:03.261000+01:00",
     "start_time": "2022-03-20T01:30:43.315Z"
    },
    "scrolled": false
   },
   "outputs": [
    {
     "name": "stdout",
     "output_type": "stream",
     "text": [
      "5103798\n"
     ]
    }
   ],
   "source": [
    "for i in 1:10\n",
    "    s = cycle(s)\n",
    "end\n",
    "println(length(s))"
   ]
  },
  {
   "cell_type": "code",
   "execution_count": 18,
   "id": "3fe84980",
   "metadata": {
    "ExecuteTime": {
     "end_time": "2022-03-20T02:20:16.866000+01:00",
     "start_time": "2022-03-20T01:20:16.864Z"
    }
   },
   "outputs": [
    {
     "data": {
      "text/plain": [
       "\"ab\""
      ]
     },
     "execution_count": 18,
     "metadata": {},
     "output_type": "execute_result"
    }
   ],
   "source": []
  },
  {
   "cell_type": "code",
   "execution_count": null,
   "id": "b319a42c",
   "metadata": {},
   "outputs": [],
   "source": [
    "# function cycle(s)\n",
    "#     out = \"\"\n",
    "#     i = 1\n",
    "#     while i <= length(s)\n",
    "#         j = 0\n",
    "#         while (i+j <= length(s))\n",
    "#             if s[i] != s[i+j]\n",
    "#                 break\n",
    "#             end\n",
    "#             j += 1\n",
    "#         end\n",
    "#         out = string(out, string(j), s[i])\n",
    "#         i += j\n",
    "#     end\n",
    "#     return replace(out, \"0\" => \"\")\n",
    "# end\n",
    "\n",
    "# println(cycle(\"1\"))\n",
    "# println(cycle(\"11\"))\n",
    "# println(cycle(\"21\"))\n",
    "# println(cycle(\"1211\"))\n",
    "# println(cycle(\"111221\"))"
   ]
  }
 ],
 "metadata": {
  "kernelspec": {
   "display_name": "Julia 1.7.0",
   "language": "julia",
   "name": "julia-1.7"
  },
  "language_info": {
   "file_extension": ".jl",
   "mimetype": "application/julia",
   "name": "julia",
   "version": "1.7.0"
  }
 },
 "nbformat": 4,
 "nbformat_minor": 5
}
