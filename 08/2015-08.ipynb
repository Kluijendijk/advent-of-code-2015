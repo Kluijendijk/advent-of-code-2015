{
 "cells": [
  {
   "cell_type": "code",
   "execution_count": 33,
   "id": "deb196be",
   "metadata": {
    "scrolled": true
   },
   "outputs": [
    {
     "name": "stdout",
     "output_type": "stream",
     "text": [
      "6202 -  4860 = 1342\n",
      "8276 -  6202 = 2074\n"
     ]
    }
   ],
   "source": [
    "data = open(\"input.txt\")\n",
    "data = read(data, String)\n",
    "stringcode = length(replace(data, \"\\n\" => \"\"))\n",
    "stringvals = length(replace(data, \"\\n\"=>\"\", \"\\\"\" => \"\", r\"\\\\x..\" => \")\", \"\\\\\\\"\" => \")\", \"\\\\\\\\\" => \")\"))\n",
    "encodedlength = length(replace(data, \"\\n\"=>\"\", \"\\\"\" => \")))\", r\"\\\\x..\" => \")))))\", \"\\\\\\\"\" => \"))))\", \"\\\\\\\\\" => \"))))\"))\n",
    "println(\"$stringcode -  $stringvals = $(stringcode-stringvals)\")\n",
    "println(\"$encodedlength -  $stringcode = $(encodedlength-stringcode)\")"
   ]
  },
  {
   "cell_type": "code",
   "execution_count": null,
   "id": "2c48bc25",
   "metadata": {
    "scrolled": false
   },
   "outputs": [],
   "source": []
  },
  {
   "cell_type": "code",
   "execution_count": null,
   "id": "292c9238",
   "metadata": {},
   "outputs": [],
   "source": []
  },
  {
   "cell_type": "code",
   "execution_count": null,
   "id": "587793fc",
   "metadata": {
    "scrolled": true
   },
   "outputs": [],
   "source": []
  },
  {
   "cell_type": "code",
   "execution_count": null,
   "id": "3fa10daa",
   "metadata": {
    "scrolled": false
   },
   "outputs": [],
   "source": []
  },
  {
   "cell_type": "code",
   "execution_count": null,
   "id": "b319a42c",
   "metadata": {},
   "outputs": [],
   "source": []
  }
 ],
 "metadata": {
  "kernelspec": {
   "display_name": "Julia 1.7.0",
   "language": "julia",
   "name": "julia-1.7"
  },
  "language_info": {
   "file_extension": ".jl",
   "mimetype": "application/julia",
   "name": "julia",
   "version": "1.7.0"
  }
 },
 "nbformat": 4,
 "nbformat_minor": 5
}
