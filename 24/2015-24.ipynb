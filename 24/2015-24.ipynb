{
 "cells": [
  {
   "cell_type": "code",
   "execution_count": 1,
   "id": "deb196be",
   "metadata": {
    "ExecuteTime": {
     "end_time": "2022-03-31T19:48:07.483000+02:00",
     "start_time": "2022-03-31T17:48:05.542Z"
    }
   },
   "outputs": [
    {
     "data": {
      "text/plain": [
       "28-element Vector{Int64}:\n",
       "   1\n",
       "   3\n",
       "   5\n",
       "  11\n",
       "  13\n",
       "  17\n",
       "  19\n",
       "  23\n",
       "  29\n",
       "  31\n",
       "  37\n",
       "  41\n",
       "  43\n",
       "   ⋮\n",
       "  67\n",
       "  71\n",
       "  73\n",
       "  79\n",
       "  83\n",
       "  89\n",
       "  97\n",
       " 101\n",
       " 103\n",
       " 107\n",
       " 109\n",
       " 113"
      ]
     },
     "execution_count": 1,
     "metadata": {},
     "output_type": "execute_result"
    }
   ],
   "source": [
    "using Memoize\n",
    "input = sort([tryparse(Int,m) for m in readlines(\"input.txt\")]) #make sure input is sorted"
   ]
  },
  {
   "cell_type": "code",
   "execution_count": 8,
   "id": "0c1a9a6f",
   "metadata": {
    "ExecuteTime": {
     "end_time": "2022-03-31T19:50:04.474000+02:00",
     "start_time": "2022-03-31T17:50:00.058Z"
    }
   },
   "outputs": [
    {
     "data": {
      "text/plain": [
       "216871-element Vector{Any}:\n",
       " [109, 79, 47, 43, 41, 37, 31, 29, 23, 19, 17, 13, 11, 5, 3, 1]\n",
       " [109, 73, 53, 43, 41, 37, 31, 29, 23, 19, 17, 13, 11, 5, 3, 1]\n",
       " [103, 79, 53, 43, 41, 37, 31, 29, 23, 19, 17, 13, 11, 5, 3, 1]\n",
       " [109, 67, 59, 43, 41, 37, 31, 29, 23, 19, 17, 13, 11, 5, 3, 1]\n",
       " [103, 73, 59, 43, 41, 37, 31, 29, 23, 19, 17, 13, 11, 5, 3, 1]\n",
       " [97, 79, 59, 43, 41, 37, 31, 29, 23, 19, 17, 13, 11, 5, 3, 1]\n",
       " [97, 71, 67, 43, 41, 37, 31, 29, 23, 19, 17, 13, 11, 5, 3, 1]\n",
       " [89, 79, 67, 43, 41, 37, 31, 29, 23, 19, 17, 13, 11, 5, 3, 1]\n",
       " [83, 79, 73, 43, 41, 37, 31, 29, 23, 19, 17, 13, 11, 5, 3, 1]\n",
       " [107, 71, 53, 47, 41, 37, 31, 29, 23, 19, 17, 13, 11, 5, 3, 1]\n",
       " [101, 71, 59, 47, 41, 37, 31, 29, 23, 19, 17, 13, 11, 5, 3, 1]\n",
       " [89, 83, 59, 47, 41, 37, 31, 29, 23, 19, 17, 13, 11, 5, 3, 1]\n",
       " [79, 73, 67, 59, 41, 37, 31, 29, 23, 19, 17, 13, 11, 5, 3, 1]\n",
       " ⋮\n",
       " [113, 101, 83, 79, 73, 59]\n",
       " [107, 101, 89, 79, 73, 59]\n",
       " [107, 97, 89, 83, 73, 59]\n",
       " [103, 101, 89, 83, 73, 59]\n",
       " [101, 97, 89, 83, 79, 59]\n",
       " [113, 101, 83, 73, 71, 67]\n",
       " [107, 101, 89, 73, 71, 67]\n",
       " [107, 101, 83, 79, 71, 67]\n",
       " [101, 97, 89, 83, 71, 67]\n",
       " [109, 97, 83, 79, 73, 67]\n",
       " [103, 97, 89, 79, 73, 67]\n",
       " [113, 89, 83, 79, 73, 71]"
      ]
     },
     "execution_count": 8,
     "metadata": {},
     "output_type": "execute_result"
    }
   ],
   "source": [
    "target_weight = sum(input)/3 #if this isn't divisible by 3, input is broken\n",
    "\n",
    "function find_groups(target, weights)\n",
    "    out = []\n",
    "    for (ind, w) in enumerate(weights)\n",
    "        if w == target\n",
    "            append!(out, [[w]])\n",
    "            continue\n",
    "        end\n",
    "        if w < target\n",
    "            collect([append!(out, [append!(comb, [w])]) for comb in find_groups(target-w, weights[ind+1:end])])\n",
    "        else\n",
    "            return out\n",
    "        end\n",
    "        \n",
    "    end\n",
    "    return out\n",
    "end\n",
    "\n",
    "combs = find_groups(target_weight, input)"
   ]
  },
  {
   "cell_type": "code",
   "execution_count": 3,
   "id": "596933fd",
   "metadata": {
    "ExecuteTime": {
     "end_time": "2022-03-31T19:48:12.385000+02:00",
     "start_time": "2022-03-31T17:48:05.547Z"
    }
   },
   "outputs": [
    {
     "data": {
      "text/plain": [
       "216871-element Vector{Any}:\n",
       " [113, 107, 103, 101, 83, 1]\n",
       " [113, 107, 101, 97, 89, 1]\n",
       " [113, 109, 107, 103, 73, 3]\n",
       " [113, 109, 107, 97, 79, 3]\n",
       " [113, 109, 103, 101, 79, 3]\n",
       " [113, 109, 103, 97, 83, 3]\n",
       " [109, 107, 103, 97, 89, 3]\n",
       " [113, 109, 107, 103, 71, 5]\n",
       " [113, 109, 107, 101, 73, 5]\n",
       " [113, 107, 103, 101, 79, 5]\n",
       " [113, 109, 101, 97, 83, 5]\n",
       " [113, 107, 103, 97, 83, 5]\n",
       " [109, 107, 103, 101, 83, 5]\n",
       " ⋮\n",
       " [73, 67, 59, 53, 47, 43, 37, 31, 29, 19, 17, 13, 11, 5, 3, 1]\n",
       " [83, 71, 53, 47, 43, 41, 37, 31, 29, 23, 17, 13, 11, 5, 3, 1]\n",
       " [71, 67, 59, 53, 47, 41, 37, 31, 29, 23, 17, 13, 11, 5, 3, 1]\n",
       " [79, 73, 53, 47, 43, 41, 37, 31, 29, 23, 19, 13, 11, 5, 3, 1]\n",
       " [79, 67, 59, 47, 43, 41, 37, 31, 29, 23, 19, 13, 11, 5, 3, 1]\n",
       " [73, 67, 59, 53, 43, 41, 37, 31, 29, 23, 19, 13, 11, 5, 3, 1]\n",
       " [89, 59, 53, 47, 43, 41, 37, 31, 29, 23, 19, 17, 11, 5, 3, 1]\n",
       " [79, 67, 53, 47, 43, 41, 37, 31, 29, 23, 19, 17, 13, 5, 3, 1]\n",
       " [73, 67, 59, 47, 43, 41, 37, 31, 29, 23, 19, 17, 13, 5, 3, 1]\n",
       " [73, 67, 53, 47, 43, 41, 37, 31, 29, 23, 19, 17, 13, 11, 3, 1]\n",
       " [79, 59, 53, 47, 43, 41, 37, 31, 29, 23, 19, 17, 13, 11, 5, 1]\n",
       " [71, 67, 53, 47, 43, 41, 37, 31, 29, 23, 19, 17, 13, 11, 5, 1]"
      ]
     },
     "execution_count": 3,
     "metadata": {},
     "output_type": "execute_result"
    }
   ],
   "source": [
    "sort!(combs, lt = (x, y) -> length(x) < length(y))"
   ]
  },
  {
   "cell_type": "code",
   "execution_count": 4,
   "id": "2b334b61",
   "metadata": {
    "ExecuteTime": {
     "end_time": "2022-03-31T19:48:13.040000+02:00",
     "start_time": "2022-03-31T17:48:05.550Z"
    },
    "scrolled": true
   },
   "outputs": [
    {
     "data": {
      "text/plain": [
       "299-element Vector{Vector{Int64}}:\n",
       " [113, 107, 103, 101, 83, 1]\n",
       " [113, 107, 101, 97, 89, 1]\n",
       " [113, 109, 107, 103, 73, 3]\n",
       " [113, 109, 107, 97, 79, 3]\n",
       " [113, 109, 103, 101, 79, 3]\n",
       " [113, 109, 103, 97, 83, 3]\n",
       " [109, 107, 103, 97, 89, 3]\n",
       " [113, 109, 107, 103, 71, 5]\n",
       " [113, 109, 107, 101, 73, 5]\n",
       " [113, 107, 103, 101, 79, 5]\n",
       " [113, 109, 101, 97, 83, 5]\n",
       " [113, 107, 103, 97, 83, 5]\n",
       " [109, 107, 103, 101, 83, 5]\n",
       " ⋮\n",
       " [113, 101, 83, 79, 73, 59]\n",
       " [107, 101, 89, 79, 73, 59]\n",
       " [107, 97, 89, 83, 73, 59]\n",
       " [103, 101, 89, 83, 73, 59]\n",
       " [101, 97, 89, 83, 79, 59]\n",
       " [113, 101, 83, 73, 71, 67]\n",
       " [107, 101, 89, 73, 71, 67]\n",
       " [107, 101, 83, 79, 71, 67]\n",
       " [101, 97, 89, 83, 71, 67]\n",
       " [109, 97, 83, 79, 73, 67]\n",
       " [103, 97, 89, 79, 73, 67]\n",
       " [113, 89, 83, 79, 73, 71]"
      ]
     },
     "execution_count": 4,
     "metadata": {},
     "output_type": "execute_result"
    }
   ],
   "source": [
    "shortest_len = length(combs[1])\n",
    "shortest_combs = [x for x in combs if length(x) <= shortest_len]"
   ]
  },
  {
   "cell_type": "code",
   "execution_count": 5,
   "id": "bf6c1a97",
   "metadata": {
    "ExecuteTime": {
     "end_time": "2022-03-31T19:48:13.187000+02:00",
     "start_time": "2022-03-31T17:48:05.552Z"
    }
   },
   "outputs": [
    {
     "name": "stdout",
     "output_type": "stream",
     "text": [
      "Part 1: 10439961859\n"
     ]
    }
   ],
   "source": [
    "sort!(shortest_combs, lt = (x, y) -> prod(x) < prod(y))\n",
    "println(\"Part 1: $(prod(shortest_combs[1]))\")"
   ]
  },
  {
   "cell_type": "code",
   "execution_count": 6,
   "id": "146ae369",
   "metadata": {
    "ExecuteTime": {
     "end_time": "2022-03-31T19:48:14.102000+02:00",
     "start_time": "2022-03-31T17:48:05.555Z"
    },
    "scrolled": false
   },
   "outputs": [
    {
     "name": "stdout",
     "output_type": "stream",
     "text": [
      "Part 2: 72050269\n"
     ]
    }
   ],
   "source": [
    "pt2_weight = sum(input)/4\n",
    "combs = find_groups(pt2_weight, input)\n",
    "sort!(combs, lt = (x, y) -> length(x) < length(y))\n",
    "shortest_len = length(combs[1])\n",
    "shortest_combs = [x for x in combs if length(x) <= shortest_len]\n",
    "sort!(shortest_combs, lt = (x, y) -> prod(x) < prod(y))\n",
    "println(\"Part 2: $(prod(shortest_combs[1]))\")"
   ]
  },
  {
   "cell_type": "code",
   "execution_count": null,
   "id": "62d7a4b2",
   "metadata": {
    "ExecuteTime": {
     "end_time": "2022-03-30T15:21:36.667000+02:00",
     "start_time": "2022-03-30T13:18:18.597Z"
    }
   },
   "outputs": [],
   "source": []
  },
  {
   "cell_type": "code",
   "execution_count": null,
   "id": "2c1f9e6e",
   "metadata": {
    "ExecuteTime": {
     "end_time": "2022-03-29T17:23:01.539000+02:00",
     "start_time": "2022-03-29T15:23:01.538Z"
    }
   },
   "outputs": [],
   "source": []
  },
  {
   "cell_type": "code",
   "execution_count": null,
   "id": "d3b50a10",
   "metadata": {
    "ExecuteTime": {
     "end_time": "2022-03-29T17:12:09.658000+02:00",
     "start_time": "2022-03-29T15:12:09.610Z"
    }
   },
   "outputs": [],
   "source": []
  },
  {
   "cell_type": "code",
   "execution_count": null,
   "id": "4ea9b8b3",
   "metadata": {
    "ExecuteTime": {
     "end_time": "2022-03-29T17:21:25.811000+02:00",
     "start_time": "2022-03-29T15:21:25.774Z"
    }
   },
   "outputs": [],
   "source": []
  },
  {
   "cell_type": "code",
   "execution_count": null,
   "id": "54705f5e",
   "metadata": {},
   "outputs": [],
   "source": []
  },
  {
   "cell_type": "code",
   "execution_count": null,
   "id": "00ed0948",
   "metadata": {},
   "outputs": [],
   "source": []
  }
 ],
 "metadata": {
  "kernelspec": {
   "display_name": "Julia 1.7.0",
   "language": "julia",
   "name": "julia-1.7"
  },
  "language_info": {
   "file_extension": ".jl",
   "mimetype": "application/julia",
   "name": "julia",
   "version": "1.7.0"
  }
 },
 "nbformat": 4,
 "nbformat_minor": 5
}
