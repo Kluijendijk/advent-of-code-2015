{
 "cells": [
  {
   "cell_type": "code",
   "execution_count": 2,
   "id": "deb196be",
   "metadata": {
    "ExecuteTime": {
     "end_time": "2022-03-28T13:34:55.300000+02:00",
     "start_time": "2022-03-28T11:34:53.911Z"
    },
    "scrolled": true
   },
   "outputs": [
    {
     "data": {
      "text/plain": [
       "Base.RegexMatchIterator(r\"([A-Z][a-z]*)\", \"HOHOH\", false)"
      ]
     },
     "execution_count": 2,
     "metadata": {},
     "output_type": "execute_result"
    }
   ],
   "source": [
    "using DataStructures\n",
    "p = r\"(.*) => (.*)\"\n",
    "ps = r\"([A-Z][a-z]*)\"\n",
    "data, starting = split(read(\"input.txt\", String), \"\\n\\n\")\n",
    "data = [[y for y in match(p, x)] for x in split(data, \"\\n\")]\n",
    "sdata, sstarting = split(read(\"sample.txt\", String), \"\\n\\n\")\n",
    "sdata = [[y for y in match(p, x)] for x in split(sdata, \"\\n\")]\n",
    "starting = eachmatch(ps, starting)\n",
    "sstarting = eachmatch(ps, sstarting)\n",
    "sstarting"
   ]
  },
  {
   "cell_type": "code",
   "execution_count": 2,
   "id": "2c48bc25",
   "metadata": {
    "ExecuteTime": {
     "end_time": "2022-03-25T12:42:04.718000+01:00",
     "start_time": "2022-03-25T11:42:01.990Z"
    },
    "scrolled": false
   },
   "outputs": [
    {
     "data": {
      "text/plain": [
       "DefaultDict{Any, Any, Int64} with 6 entries:\n",
       "  \"HOHOOH\" => 2\n",
       "  \"OHOHOH\" => 1\n",
       "  \"HOHHHH\" => 1\n",
       "  \"HHHHOH\" => 1\n",
       "  \"HOHOHO\" => 1\n",
       "  \"HOOHOH\" => 2"
      ]
     },
     "execution_count": 2,
     "metadata": {},
     "output_type": "execute_result"
    }
   ],
   "source": [
    "function products(mol, rxns)\n",
    "    cmol = collect(mol)\n",
    "    new_mols = DefaultDict(0)\n",
    "    for (i, atom) in enumerate(mol)\n",
    "        for rxn in rxns\n",
    "            if rxn[1] == atom[1]\n",
    "                before = reduce(*, [[\"\"];[m[1] for m in cmol[1:i-1]]])\n",
    "                after = reduce(*,  [[\"\"];[m[1] for m in cmol[i+1:end]]])\n",
    "                new_mol = reduce(*, [before, rxn[2], after])\n",
    "                new_mols[new_mol] += 1\n",
    "            end\n",
    "        end\n",
    "    end\n",
    "    return new_mols\n",
    "end\n",
    "products(sstarting, sdata)"
   ]
  },
  {
   "cell_type": "code",
   "execution_count": 92,
   "id": "292c9238",
   "metadata": {
    "ExecuteTime": {
     "end_time": "2022-03-25T12:22:56.509000+01:00",
     "start_time": "2022-03-25T11:22:56.209Z"
    },
    "scrolled": true
   },
   "outputs": [
    {
     "name": "stdout",
     "output_type": "stream",
     "text": [
      "CRnSiRnCaPTiMgYCaPTiRnFArSiThFArCaSiThSiThPBCaCaSiRnSiRnTiTiMgArPBCaPMgYPTiRnFArFArCaSiRnBPMgArPRnCaPTiRnFArCaSiThCaCaFArPBCaCaPTiTiRnFArCaSiRnSiAlYSiThRnFArArCaSiRnBFArCaCaSiRnSiThCaCaCaFYCaPTiBCaSiThCaSiThPMgArSiRnCaPBFYCaCaFArCaCaCaCaSiThCaSiRnPRnFArPBSiThPRnFArSiRnMgArCaFYFArCaSiRnSiAlArTiTiTiTiTiTiTiRnPMgArPTiTiTiBSiRnSiAlArTiTiRnPMgArCaFYBPBPTiRnSiRnMgArSiThCaFArCaSiThFArPRnFArCaSiRnTiBSiThSiRnSiAlYCaFArPRnFArSiThCaFArCaCaSiThCaCaCaSiRnPRnCaFArFYPMgArCaPBCaPBSiRnFYPBCaFArCaSiAl\n",
      "Base.RegexMatchIterator(r\"([A-Z][a-z]*)\", \"CRnSiRnCaPTiMgYCaPTiRnFArSiThFArCaSiThSiThPBCaCaSiRnSiRnTiTiMgArPBCaPMgYPTiRnFArFArCaSiRnBPMgArPRnCaPTiRnFArCaSiThCaCaFArPBCaCaPTiTiRnFArCaSiRnSiAlYSiThRnFArArCaSiRnBFArCaCaSiRnSiThCaCaCaFYCaPTiBCaSiThCaSiThPMgArSiRnCaPBFYCaCaFArCaCaCaCaSiThCaSiRnPRnFArPBSiThPRnFArSiRnMgArCaFYFArCaSiRnSiAlArTiTiTiTiTiTiTiRnPMgArPTiTiTiBSiRnSiAlArTiTiRnPMgArCaFYBPBPTiRnSiRnMgArSiThCaFArCaSiThFArPRnFArCaSiRnTiBSiThSiRnSiAlYCaFArPRnFArSiThCaFArCaCaSiThCaCaCaSiRnPRnCaFArFYPMgArCaPBCaPBSiRnFYPBCaFArCaSiAl\", false)\n",
      "Vector{SubString{String}}[[\"Al\", \"ThF\"], [\"Al\", \"ThRnFAr\"], [\"B\", \"BCa\"], [\"B\", \"TiB\"], [\"B\", \"TiRnFAr\"], [\"Ca\", \"CaCa\"], [\"Ca\", \"PB\"], [\"Ca\", \"PRnFAr\"], [\"Ca\", \"SiRnFYFAr\"], [\"Ca\", \"SiRnMgAr\"], [\"Ca\", \"SiTh\"], [\"F\", \"CaF\"], [\"F\", \"PMg\"], [\"F\", \"SiAl\"], [\"H\", \"CRnAlAr\"], [\"H\", \"CRnFYFYFAr\"], [\"H\", \"CRnFYMgAr\"], [\"H\", \"CRnMgYFAr\"], [\"H\", \"HCa\"], [\"H\", \"NRnFYFAr\"], [\"H\", \"NRnMgAr\"], [\"H\", \"NTh\"], [\"H\", \"OB\"], [\"H\", \"ORnFAr\"], [\"Mg\", \"BF\"], [\"Mg\", \"TiMg\"], [\"N\", \"CRnFAr\"], [\"N\", \"HSi\"], [\"O\", \"CRnFYFAr\"], [\"O\", \"CRnMgAr\"], [\"O\", \"HP\"], [\"O\", \"NRnFAr\"], [\"O\", \"OTi\"], [\"P\", \"CaP\"], [\"P\", \"PTi\"], [\"P\", \"SiRnFAr\"], [\"Si\", \"CaSi\"], [\"Th\", \"ThCa\"], [\"Ti\", \"BP\"], [\"Ti\", \"TiTi\"], [\"e\", \"HF\"], [\"e\", \"NAl\"], [\"e\", \"OMg\"]]\n"
     ]
    },
    {
     "data": {
      "text/plain": [
       "DefaultDict{Any, Any, Int64} with 518 entries:\n",
       "  \"CRnSiRnCaPTiMgYCaPTiRnFArSiThFArCaSiThSiThPBCaCaSiRnSiRnTiTiMgArPBCaPMg… => 1\n",
       "  \"CRnSiRnCaPTiMgYCaPTiRnFArSiThFArCaSiThSiThPBCaCaSiRnSiRnTiTiMgArPBCaPMg… => 1\n",
       "  \"CRnSiRnCaPTiMgYCaPTiRnFArSiThFArCaSiThSiThPBCaCaSiRnSiRnTiTiMgArPBCaPMg… => 3\n",
       "  \"CRnSiRnCaPTiMgYCaPTiRnFArSiThFArCaSiThSiThPBCaCaSiRnSiRnTiTiMgArPBCaPMg… => 1\n",
       "  \"CRnSiRnCaPTiMgYCaPTiRnFArSiThFArCaSiThSiThPBCaCaSiRnSiRnTiTiMgArPBCaPMg… => 1\n",
       "  \"CRnSiRnCaPTiMgYCaPTiRnFArSiThFArCaSiThSiThPBCaCaSiRnSiRnTiTiMgArPBCaPMg… => 1\n",
       "  \"CRnSiRnCaPTiMgYCaPTiRnFArSiThFArCaSiThSiThPBCaCaSiRnSiRnTiTiMgArPBCaPMg… => 1\n",
       "  \"CRnSiRnCaPTiMgYCaPTiRnFArSiThFArCaSiThSiThPBCaCaSiRnSiRnTiTiMgArPBCaPMg… => 1\n",
       "  \"CRnSiRnCaPTiMgYCaPTiRnFArSiThFArCaSiThSiThPBCaCaSiRnSiRnTiTiMgArPBCaPMg… => 1\n",
       "  \"CRnSiRnCaPTiMgYCaPTiRnFArSiThFArCaSiThSiThPBCaCaSiRnSiRnTiTiMgArPBCaPMg… => 3\n",
       "  \"CRnSiRnCaPTiMgYCaPTiRnFArSiThFArCaSiThSiThPBCaCaSiRnSiRnTiTiMgArPBCaPMg… => 1\n",
       "  \"CRnSiRnCaPTiMgYCaPTiRnFArSiThFArCaSiThSiThPBCaCaSiRnSiRnTiTiMgArPBCaPMg… => 1\n",
       "  \"CRnSiRnCaPTiMgYCaPTiRnFArSiThFArCaSiThSiThPBCaCaSiRnSiRnTiTiMgArPBCaPMg… => 2\n",
       "  \"CRnSiRnCaPTiMgYCaPTiRnFArSiThFArCaSiThSiThPBCaCaSiRnSiRnTiTiMgArPBCaPMg… => 1\n",
       "  \"CRnSiRnCaPTiMgYCaPTiRnFArSiThFArCaSiThSiThPBCaCaSiRnSiRnTiTiMgArPBCaPMg… => 1\n",
       "  \"CRnSiRnCaPTiMgYCaPTiRnFArSiThFArCaSiThSiThPBCaCaSiRnSiRnTiTiMgArPBCaPMg… => 3\n",
       "  \"CRnSiRnCaPTiMgYCaPTiRnFArSiThFArCaSiThSiThPBCaCaSiRnSiRnTiTiMgArPBPBPMg… => 1\n",
       "  \"CRnSiRnCaPTiMgYCaPTiRnFArSiThFArCaSiThSiThPBCaCaSiRnSiRnTiTiMgArPBCaPMg… => 1\n",
       "  \"CRnSiRnCaPTiMgYCaPTiRnSiAlArSiThFArCaSiThSiThPBCaCaSiRnSiRnTiTiMgArPBCa… => 1\n",
       "  \"CRnSiRnCaPTiMgYCaPTiRnFArSiThFArCaSiThSiThPBCaCaSiRnSiRnTiTiMgArPBCaPMg… => 1\n",
       "  \"CRnSiRnCaPTiMgYCaPTiRnFArSiThFArCaSiThSiThPBCaCaSiRnSiRnTiTiMgArPBCaPMg… => 2\n",
       "  \"CRnSiRnCaPTiMgYCaPTiRnFArSiThFArCaSiThSiThPBCaCaSiRnSiRnTiTiMgArPBCaPMg… => 1\n",
       "  \"CRnSiRnCaPTiMgYCaPTiRnFArSiThFArCaSiThSiThPBCaCaSiRnSiRnTiTiMgArPBCaPMg… => 2\n",
       "  \"CRnSiRnCaPTiMgYCaPTiRnFArSiThFArCaSiThSiThPBCaCaSiRnSiRnTiTiMgArPBCaPMg… => 1\n",
       "  \"CRnSiRnCaPTiMgYCaPTiRnFArSiThFArCaSiThSiThPBCaCaSiRnSiRnTiTiMgArPBCaPMg… => 1\n",
       "  ⋮                                                                         => ⋮"
      ]
     },
     "execution_count": 92,
     "metadata": {},
     "output_type": "execute_result"
    }
   ],
   "source": [
    "println(reduce(*, [m[1] for m in starting]))\n",
    "products(starting, data)"
   ]
  },
  {
   "cell_type": "code",
   "execution_count": 3,
   "id": "3fa10daa",
   "metadata": {
    "ExecuteTime": {
     "end_time": "2022-03-25T12:42:06.184000+01:00",
     "start_time": "2022-03-25T11:42:05.212Z"
    },
    "scrolled": false
   },
   "outputs": [
    {
     "data": {
      "text/plain": [
       "5.0"
      ]
     },
     "execution_count": 3,
     "metadata": {},
     "output_type": "execute_result"
    }
   ],
   "source": [
    "function reach_mol(target, rxns)\n",
    "    if (true) #seems reasonable to not brute force\n",
    "        return -1\n",
    "    end\n",
    "    ps = r\"([A-Z][a-z]*)\"\n",
    "    current = [match(r\"(e)\", \"e\")]\n",
    "    steps = collect(keys(products(current, rxns)))\n",
    "    taken = ones(length(steps))\n",
    "    old = Set()\n",
    "    while !isempty(steps)\n",
    "        _nxt = popfirst!(steps)\n",
    "        _tkn = popfirst!(taken)\n",
    "        if _nxt == target\n",
    "            return _tkn\n",
    "        end\n",
    "        if _nxt in old\n",
    "            continue\n",
    "        end\n",
    "        next_steps = setdiff!(Set(keys(products(eachmatch(ps, _nxt), rxns))), old)\n",
    "        #push!(old, _nxt)\n",
    "        next_taken = ones(length(next_steps)) .+ _tkn\n",
    "        steps = [steps;collect(next_steps)]\n",
    "        taken = [taken;collect(next_taken)]\n",
    "    end\n",
    "end\n",
    "reach_mol(reduce(*, [m[1] for m in sstarting]), sdata)"
   ]
  },
  {
   "cell_type": "code",
   "execution_count": null,
   "id": "3fe84980",
   "metadata": {
    "ExecuteTime": {
     "start_time": "2022-03-25T11:42:07.998Z"
    }
   },
   "outputs": [],
   "source": [
    "reach_mol(reduce(*, [m[1] for m in starting]), data)"
   ]
  },
  {
   "cell_type": "code",
   "execution_count": 27,
   "id": "4950540b",
   "metadata": {
    "ExecuteTime": {
     "end_time": "2022-03-28T13:52:20.614000+02:00",
     "start_time": "2022-03-28T11:52:19.755Z"
    }
   },
   "outputs": [
    {
     "data": {
      "text/plain": [
       "Dict{SubString{String}, Vector{Any}} with 13 entries:\n",
       "  \"Si\" => [\"CaSi\"]\n",
       "  \"P\"  => [\"CaP\", \"PTi\", \"SiRnFAr\"]\n",
       "  \"e\"  => [\"HF\", \"NAl\", \"OMg\"]\n",
       "  \"O\"  => [\"CRnFYFAr\", \"CRnMgAr\", \"HP\", \"NRnFAr\", \"OTi\"]\n",
       "  \"B\"  => [\"BCa\", \"TiB\", \"TiRnFAr\"]\n",
       "  \"Ti\" => [\"BP\", \"TiTi\"]\n",
       "  \"Ca\" => [\"CaCa\", \"PB\", \"PRnFAr\", \"SiRnFYFAr\", \"SiRnMgAr\", \"SiTh\"]\n",
       "  \"Th\" => [\"ThCa\"]\n",
       "  \"N\"  => [\"CRnFAr\", \"HSi\"]\n",
       "  \"H\"  => [\"CRnAlAr\", \"CRnFYFYFAr\", \"CRnFYMgAr\", \"CRnMgYFAr\", \"HCa\", \"NRnFYFAr\"…\n",
       "  \"Al\" => [\"ThF\", \"ThRnFAr\"]\n",
       "  \"Mg\" => [\"BF\", \"TiMg\"]\n",
       "  \"F\"  => [\"CaF\", \"PMg\", \"SiAl\"]"
      ]
     },
     "execution_count": 27,
     "metadata": {},
     "output_type": "execute_result"
    }
   ],
   "source": [
    "using DataFrames\n",
    "dict = Dict([m[1] => [] for m in unique(data)])\n",
    "collect([push!(dict[m[1]], m[2]) for m in data])\n",
    "dict"
   ]
  },
  {
   "cell_type": "markdown",
   "id": "91922048",
   "metadata": {
    "ExecuteTime": {
     "end_time": "2022-03-28T13:53:17.174000+02:00",
     "start_time": "2022-03-28T11:53:17.173Z"
    }
   },
   "source": [
    "Pattern:\n",
    "\n",
    "Four types of reactions:\n",
    "\n",
    "Reaction 1:\n",
    "R => P1-P2\n",
    "\n",
    "Reaction 2:\n",
    "R => P1-Rn-P2-Ar\n",
    "\n",
    "Reaction 3:\n",
    "R => P1-Rn-P2-Y-P3-Ar\n",
    "\n",
    "Reaction 4:\n",
    "R => P1-Rn-P2-Y-P3-Y-P4-Ar\n",
    "\n",
    "This means:\n",
    "\n",
    "- The reaction must always grow\n",
    "- Max number of steps will always be length - 1 (You start with 1 molecule, and gain at least 1 each step)\n",
    "- Each type 4 reaction present will add 7 molecules\n",
    "- Each type 3 reaction will add 5\n",
    "- Each type 2 reaction will add 3\n",
    "- Each type 1 reaction only adds 1\n",
    "- Each Rn or Ar therefore will come free, and each Y will come free and bring an extra free molecule even\n",
    "\n",
    "Hence, the minimum amount will be length - 6\\*#(RnYYAr) - 4\\*#(RnYAr) - 2\\*#(RnAr)\n",
    "\n",
    "This can also be written as length - 2\\*Y - Rn - Ar - 1"
   ]
  },
  {
   "cell_type": "code",
   "execution_count": 49,
   "id": "1f9e23d6",
   "metadata": {
    "ExecuteTime": {
     "end_time": "2022-03-28T14:32:03.341000+02:00",
     "start_time": "2022-03-28T12:32:03.339Z"
    }
   },
   "outputs": [
    {
     "data": {
      "text/plain": [
       "200"
      ]
     },
     "execution_count": 49,
     "metadata": {},
     "output_type": "execute_result"
    }
   ],
   "source": [
    "target = starting.string\n",
    "length(collect(starting)) - \n",
    "    2*length(collect(eachmatch(r\"Y\", target))) - length(collect(eachmatch(r\"Rn|Ar\", target))) - 1"
   ]
  },
  {
   "cell_type": "code",
   "execution_count": null,
   "id": "08375062",
   "metadata": {},
   "outputs": [],
   "source": []
  },
  {
   "cell_type": "code",
   "execution_count": null,
   "id": "c59663c2",
   "metadata": {},
   "outputs": [],
   "source": []
  }
 ],
 "metadata": {
  "kernelspec": {
   "display_name": "Julia 1.7.0",
   "language": "julia",
   "name": "julia-1.7"
  },
  "language_info": {
   "file_extension": ".jl",
   "mimetype": "application/julia",
   "name": "julia",
   "version": "1.7.0"
  }
 },
 "nbformat": 4,
 "nbformat_minor": 5
}
