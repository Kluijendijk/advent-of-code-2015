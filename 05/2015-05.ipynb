{
 "cells": [
  {
   "cell_type": "code",
   "execution_count": 20,
   "id": "deb196be",
   "metadata": {
    "scrolled": false
   },
   "outputs": [
    {
     "data": {
      "text/plain": [
       "1000×1 Matrix{Any}:\n",
       " \"sszojmmrrkwuftyv\"\n",
       " \"isaljhemltsdzlum\"\n",
       " \"fujcyucsrxgatisb\"\n",
       " \"qiqqlmcgnhzparyg\"\n",
       " \"oijbmduquhfactbc\"\n",
       " \"jqzuvtggpdqcekgk\"\n",
       " \"zwqadogmpjmmxijf\"\n",
       " \"uilzxjythsqhwndh\"\n",
       " \"gtssqejjknzkkpvw\"\n",
       " \"wrggegukhhatygfi\"\n",
       " \"vhtcgqzerxonhsye\"\n",
       " \"tedlwzdjfppbmtdx\"\n",
       " \"iuvrelxiapllaxbg\"\n",
       " ⋮\n",
       " \"jezogwvymvikszwa\"\n",
       " \"izmqcwdyggibliet\"\n",
       " \"nzpxbegurwnwrnca\"\n",
       " \"kzkojelnvkwfublh\"\n",
       " \"xqcssgozuxfqtiwi\"\n",
       " \"tcdoigumjrgvczfv\"\n",
       " \"ikcjyubjmylkwlwq\"\n",
       " \"kqfivwystpqzvhan\"\n",
       " \"bzukgvyoqewniivj\"\n",
       " \"iduapzclhhyfladn\"\n",
       " \"fbpyzxdfmkrtfaeg\"\n",
       " \"yzsmlbnftftgwadz\""
      ]
     },
     "execution_count": 20,
     "metadata": {},
     "output_type": "execute_result"
    }
   ],
   "source": [
    "using DelimitedFiles\n",
    "\n",
    "data = readdlm(\"input.txt\", '\\n')\n",
    "data"
   ]
  },
  {
   "cell_type": "code",
   "execution_count": 3,
   "id": "2c48bc25",
   "metadata": {},
   "outputs": [
    {
     "name": "stdout",
     "output_type": "stream",
     "text": [
      "255\n"
     ]
    }
   ],
   "source": [
    "vowels = ['a','e','i','o','u']\n",
    "ileg = [\"ab\", \"cd\", \"pq\", \"xy\"]\n",
    "nice = 0\n",
    "for str in data\n",
    "    cvow = Int(str[end] in vowels)\n",
    "    hasrep = false\n",
    "    hasileg = false\n",
    "    for l in 1:length(str)-1\n",
    "        if str[l] in vowels\n",
    "            cvow += 1\n",
    "        end\n",
    "        if str[l] == str[l+1]\n",
    "            hasrep = true\n",
    "        end\n",
    "    end\n",
    "    for i in ileg\n",
    "        if occursin(i, str)\n",
    "            hasileg = true\n",
    "        end\n",
    "    end\n",
    "    \n",
    "    nice += Int(cvow >= 3 && hasrep &&  !hasileg)\n",
    "end\n",
    "println(nice)"
   ]
  },
  {
   "cell_type": "code",
   "execution_count": 19,
   "id": "587793fc",
   "metadata": {
    "scrolled": true
   },
   "outputs": [
    {
     "name": "stdout",
     "output_type": "stream",
     "text": [
      "55\n"
     ]
    }
   ],
   "source": [
    "nice = 0\n",
    "for str in data\n",
    "    hasrep = false\n",
    "    hasgap = false\n",
    "    for l in 1:length(str)-2\n",
    "        if str[l] == str[l+2]\n",
    "            hasgap = true\n",
    "        end\n",
    "        if occursin(str[l:l+1], str[l+2:end])\n",
    "            hasrep = true\n",
    "        end\n",
    "    end\n",
    "    nice += Int(hasrep && hasgap)\n",
    "end\n",
    "println(nice)"
   ]
  },
  {
   "cell_type": "code",
   "execution_count": 13,
   "id": "3fa10daa",
   "metadata": {
    "scrolled": false
   },
   "outputs": [
    {
     "data": {
      "text/plain": [
       "\"ab\""
      ]
     },
     "execution_count": 13,
     "metadata": {},
     "output_type": "execute_result"
    }
   ],
   "source": []
  },
  {
   "cell_type": "code",
   "execution_count": null,
   "id": "b319a42c",
   "metadata": {},
   "outputs": [],
   "source": []
  }
 ],
 "metadata": {
  "kernelspec": {
   "display_name": "Julia 1.7.0",
   "language": "julia",
   "name": "julia-1.7"
  },
  "language_info": {
   "file_extension": ".jl",
   "mimetype": "application/julia",
   "name": "julia",
   "version": "1.7.0"
  }
 },
 "nbformat": 4,
 "nbformat_minor": 5
}
