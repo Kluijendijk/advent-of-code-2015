{
 "cells": [
  {
   "cell_type": "code",
   "execution_count": 3,
   "id": "deb196be",
   "metadata": {
    "ExecuteTime": {
     "end_time": "2022-03-28T14:38:10.395000+02:00",
     "start_time": "2022-03-28T12:38:09.929Z"
    },
    "scrolled": true
   },
   "outputs": [
    {
     "data": {
      "text/plain": [
       "29000000"
      ]
     },
     "execution_count": 3,
     "metadata": {},
     "output_type": "execute_result"
    }
   ],
   "source": [
    "input = 29000000"
   ]
  },
  {
   "cell_type": "code",
   "execution_count": 18,
   "id": "2c48bc25",
   "metadata": {
    "ExecuteTime": {
     "end_time": "2022-03-28T14:55:16.931000+02:00",
     "start_time": "2022-03-28T12:55:14.362Z"
    },
    "scrolled": false
   },
   "outputs": [
    {
     "data": {
      "text/plain": [
       "665280"
      ]
     },
     "execution_count": 18,
     "metadata": {},
     "output_type": "execute_result"
    }
   ],
   "source": [
    "presents = zeros(Int64, input÷10)\n",
    "collect([presents[i:i:end] .+= i for i in 1:input÷10])\n",
    "findfirst(presents .>= input÷10)"
   ]
  },
  {
   "cell_type": "code",
   "execution_count": 19,
   "id": "292c9238",
   "metadata": {
    "ExecuteTime": {
     "end_time": "2022-03-28T14:58:30.291000+02:00",
     "start_time": "2022-03-28T12:58:27.853Z"
    },
    "scrolled": true
   },
   "outputs": [
    {
     "data": {
      "text/plain": [
       "705600"
      ]
     },
     "execution_count": 19,
     "metadata": {},
     "output_type": "execute_result"
    }
   ],
   "source": [
    "presents = zeros(Int64, input÷10)\n",
    "collect([presents[i:i:min(end, i*50+1)] .+= i*11 for i in 1:input÷10])\n",
    "findfirst(presents .>= input)"
   ]
  },
  {
   "cell_type": "code",
   "execution_count": null,
   "id": "3fa10daa",
   "metadata": {
    "ExecuteTime": {
     "end_time": "2022-03-25T12:42:06.184000+01:00",
     "start_time": "2022-03-25T11:42:05.212Z"
    },
    "scrolled": false
   },
   "outputs": [],
   "source": []
  },
  {
   "cell_type": "code",
   "execution_count": null,
   "id": "3fe84980",
   "metadata": {
    "ExecuteTime": {
     "start_time": "2022-03-25T11:42:07.998Z"
    }
   },
   "outputs": [],
   "source": []
  },
  {
   "cell_type": "code",
   "execution_count": null,
   "id": "21c43ca2",
   "metadata": {
    "ExecuteTime": {
     "end_time": "2022-03-28T13:52:20.614000+02:00",
     "start_time": "2022-03-28T11:52:19.755Z"
    }
   },
   "outputs": [],
   "source": []
  },
  {
   "cell_type": "code",
   "execution_count": null,
   "id": "74ea365c",
   "metadata": {
    "ExecuteTime": {
     "end_time": "2022-03-28T14:22:40.359000+02:00",
     "start_time": "2022-03-28T12:22:40.116Z"
    }
   },
   "outputs": [],
   "source": []
  },
  {
   "cell_type": "code",
   "execution_count": null,
   "id": "9dc449f7",
   "metadata": {
    "ExecuteTime": {
     "end_time": "2022-03-28T14:29:48.873000+02:00",
     "start_time": "2022-03-28T12:29:48.871Z"
    }
   },
   "outputs": [],
   "source": []
  },
  {
   "cell_type": "code",
   "execution_count": null,
   "id": "b7f966e8",
   "metadata": {},
   "outputs": [],
   "source": []
  },
  {
   "cell_type": "code",
   "execution_count": null,
   "id": "2b334b61",
   "metadata": {},
   "outputs": [],
   "source": []
  }
 ],
 "metadata": {
  "kernelspec": {
   "display_name": "Julia 1.7.0",
   "language": "julia",
   "name": "julia-1.7"
  },
  "language_info": {
   "file_extension": ".jl",
   "mimetype": "application/julia",
   "name": "julia",
   "version": "1.7.0"
  }
 },
 "nbformat": 4,
 "nbformat_minor": 5
}
