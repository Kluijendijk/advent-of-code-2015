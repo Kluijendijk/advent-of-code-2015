{
 "cells": [
  {
   "cell_type": "code",
   "execution_count": 15,
   "id": "deb196be",
   "metadata": {
    "ExecuteTime": {
     "end_time": "2022-03-21T11:47:33.113000+01:00",
     "start_time": "2022-03-21T10:47:27.428Z"
    },
    "scrolled": true
   },
   "outputs": [
    {
     "data": {
      "text/plain": [
       "56×3 Matrix{Any}:\n",
       " \"Alice\"    \"Bob\"       -57\n",
       " \"Alice\"    \"Carol\"     -62\n",
       " \"Alice\"    \"David\"     -75\n",
       " \"Alice\"    \"Eric\"       71\n",
       " \"Alice\"    \"Frank\"     -22\n",
       " \"Alice\"    \"George\"    -23\n",
       " \"Alice\"    \"Mallory\"   -76\n",
       " \"Bob\"      \"Alice\"     -14\n",
       " \"Bob\"      \"Carol\"      48\n",
       " \"Bob\"      \"David\"      89\n",
       " \"Bob\"      \"Eric\"       86\n",
       " \"Bob\"      \"Frank\"      -2\n",
       " \"Bob\"      \"George\"     27\n",
       " ⋮                     \n",
       " \"George\"   \"Carol\"     -60\n",
       " \"George\"   \"David\"      30\n",
       " \"George\"   \"Eric\"     -100\n",
       " \"George\"   \"Frank\"     -63\n",
       " \"George\"   \"Mallory\"    57\n",
       " \"Mallory\"  \"Alice\"     -71\n",
       " \"Mallory\"  \"Bob\"       -28\n",
       " \"Mallory\"  \"Carol\"     -10\n",
       " \"Mallory\"  \"David\"      44\n",
       " \"Mallory\"  \"Eric\"       22\n",
       " \"Mallory\"  \"Frank\"      79\n",
       " \"Mallory\"  \"George\"    -16"
      ]
     },
     "execution_count": 15,
     "metadata": {},
     "output_type": "execute_result"
    }
   ],
   "source": [
    "using DataStructures\n",
    "rawdata = readlines(\"input.txt\")\n",
    "p = r\"(.*) would ([gl]).* (\\d*) happiness units by sitting next to (.*)\\.\"\n",
    "sign = Dict(\"l\"=>-1,\"g\"=>1)\n",
    "func(x)=[x[1],x[4],sign[x[2]]*parse(Int,x[3])]\n",
    "data = permutedims(reduce(hcat, map(func, match(p, line) for line in rawdata)))\n",
    "data\n"
   ]
  },
  {
   "cell_type": "code",
   "execution_count": 16,
   "id": "a9b4e339",
   "metadata": {
    "ExecuteTime": {
     "end_time": "2022-03-21T11:47:33.117000+01:00",
     "start_time": "2022-03-21T10:47:27.431Z"
    }
   },
   "outputs": [
    {
     "data": {
      "text/plain": [
       "Dict{SubString{String}, Int64} with 8 entries:\n",
       "  \"Carol\"   => 2\n",
       "  \"Eric\"    => 4\n",
       "  \"David\"   => 3\n",
       "  \"George\"  => 6\n",
       "  \"Alice\"   => 8\n",
       "  \"Frank\"   => 5\n",
       "  \"Bob\"     => 1\n",
       "  \"Mallory\" => 7"
      ]
     },
     "execution_count": 16,
     "metadata": {},
     "output_type": "execute_result"
    }
   ],
   "source": [
    "names = unique(data[:, :2])\n",
    "indexes = Dict(names .=> 1:length(names))"
   ]
  },
  {
   "cell_type": "code",
   "execution_count": 17,
   "id": "2c48bc25",
   "metadata": {
    "ExecuteTime": {
     "end_time": "2022-03-21T11:47:33.141000+01:00",
     "start_time": "2022-03-21T10:47:27.434Z"
    },
    "scrolled": false
   },
   "outputs": [
    {
     "data": {
      "text/plain": [
       "8×8 Matrix{Int64}:\n",
       "   0   48   89    86   -2   27   19  -14\n",
       "  45    0   24     5  -68  -25   30   37\n",
       "  34   99    0    91  -38   60  -63  -51\n",
       " -69  -33  -47     0   75   82   13   23\n",
       "  27  -87   74   -41    0  -99   26   77\n",
       " -51  -60   30  -100  -63    0   57  -63\n",
       " -28  -10   44    22   79  -16    0  -71\n",
       " -57  -62  -75    71  -22  -23  -76    0"
      ]
     },
     "execution_count": 17,
     "metadata": {},
     "output_type": "execute_result"
    }
   ],
   "source": [
    "indexes = Dict(names .=> 1:length(names))\n",
    "units = fill(0, (length(names),length(names)))\n",
    "for line in 1:size(data,1)\n",
    "    units[indexes[data[line, 1]], indexes[data[line,2]]] = data[line, 3]\n",
    "end\n",
    "units"
   ]
  },
  {
   "cell_type": "code",
   "execution_count": 18,
   "id": "292c9238",
   "metadata": {
    "ExecuteTime": {
     "end_time": "2022-03-21T11:47:33.146000+01:00",
     "start_time": "2022-03-21T10:47:27.435Z"
    }
   },
   "outputs": [
    {
     "data": {
      "text/plain": [
       "8×8 Matrix{Int64}:\n",
       "   0    93   123   17    25   -24    -9   -71\n",
       "  93     0   123  -28  -155   -85    20   -25\n",
       " 123   123     0   44    36    90   -19  -126\n",
       "  17   -28    44    0    34   -18    35    94\n",
       "  25  -155    36   34     0  -162   105    55\n",
       " -24   -85    90  -18  -162     0    41   -86\n",
       "  -9    20   -19   35   105    41     0  -147\n",
       " -71   -25  -126   94    55   -86  -147     0"
      ]
     },
     "execution_count": 18,
     "metadata": {},
     "output_type": "execute_result"
    }
   ],
   "source": [
    "units = units + units'"
   ]
  },
  {
   "cell_type": "code",
   "execution_count": 27,
   "id": "3fa10daa",
   "metadata": {
    "ExecuteTime": {
     "end_time": "2022-03-21T11:54:50.364000+01:00",
     "start_time": "2022-03-21T10:54:50.157Z"
    },
    "scrolled": false
   },
   "outputs": [
    {
     "data": {
      "text/plain": [
       "618"
      ]
     },
     "execution_count": 27,
     "metadata": {},
     "output_type": "execute_result"
    }
   ],
   "source": [
    "function max_happiness(loc, left, info)\n",
    "    path = []\n",
    "    max = -Inf\n",
    "    if length(left) == 1\n",
    "        if left[1] == 1\n",
    "            return -Inf\n",
    "        end\n",
    "        return info[loc, left[1]] + info[left[1], 1]\n",
    "    end\n",
    "    for i in 1:length(left)\n",
    "        _max = max_happiness(left[i], cat(left[1:i-1],left[i+1:end], dims=1), info)\n",
    "        _max += info[loc, left[i]]\n",
    "        if _max > max\n",
    "            max = _max\n",
    "        end\n",
    "    end\n",
    "    return max\n",
    "end\n",
    "max_happiness(1, 2:length(names), units)"
   ]
  },
  {
   "cell_type": "code",
   "execution_count": 24,
   "id": "3fe84980",
   "metadata": {
    "ExecuteTime": {
     "end_time": "2022-03-21T11:51:56.227000+01:00",
     "start_time": "2022-03-21T10:51:56.220Z"
    }
   },
   "outputs": [
    {
     "data": {
      "text/plain": [
       "9×9 Matrix{Float64}:\n",
       "   0.0    93.0   123.0   17.0    25.0   -24.0    -9.0   -71.0  0.0\n",
       "  93.0     0.0   123.0  -28.0  -155.0   -85.0    20.0   -25.0  0.0\n",
       " 123.0   123.0     0.0   44.0    36.0    90.0   -19.0  -126.0  0.0\n",
       "  17.0   -28.0    44.0    0.0    34.0   -18.0    35.0    94.0  0.0\n",
       "  25.0  -155.0    36.0   34.0     0.0  -162.0   105.0    55.0  0.0\n",
       " -24.0   -85.0    90.0  -18.0  -162.0     0.0    41.0   -86.0  0.0\n",
       "  -9.0    20.0   -19.0   35.0   105.0    41.0     0.0  -147.0  0.0\n",
       " -71.0   -25.0  -126.0   94.0    55.0   -86.0  -147.0     0.0  0.0\n",
       "   0.0     0.0     0.0    0.0     0.0     0.0     0.0     0.0  0.0"
      ]
     },
     "execution_count": 24,
     "metadata": {},
     "output_type": "execute_result"
    }
   ],
   "source": [
    "newunits = vcat(hcat(units, zeros(length(names))),zeros(length(names)+1)')"
   ]
  },
  {
   "cell_type": "code",
   "execution_count": 28,
   "id": "b319a42c",
   "metadata": {
    "ExecuteTime": {
     "end_time": "2022-03-21T11:54:53.956000+01:00",
     "start_time": "2022-03-21T10:54:53.602Z"
    }
   },
   "outputs": [
    {
     "data": {
      "text/plain": [
       "601.0"
      ]
     },
     "execution_count": 28,
     "metadata": {},
     "output_type": "execute_result"
    }
   ],
   "source": [
    "max_happiness(1, 2:length(names)+1, newunits)"
   ]
  },
  {
   "cell_type": "code",
   "execution_count": null,
   "id": "1346b1cd",
   "metadata": {},
   "outputs": [],
   "source": []
  }
 ],
 "metadata": {
  "kernelspec": {
   "display_name": "Julia 1.7.0",
   "language": "julia",
   "name": "julia-1.7"
  },
  "language_info": {
   "file_extension": ".jl",
   "mimetype": "application/julia",
   "name": "julia",
   "version": "1.7.0"
  }
 },
 "nbformat": 4,
 "nbformat_minor": 5
}
