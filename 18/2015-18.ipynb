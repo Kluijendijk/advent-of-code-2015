{
 "cells": [
  {
   "cell_type": "code",
   "execution_count": 29,
   "id": "deb196be",
   "metadata": {
    "ExecuteTime": {
     "end_time": "2022-03-25T11:07:31.066000+01:00",
     "start_time": "2022-03-25T10:07:29.162Z"
    },
    "scrolled": true
   },
   "outputs": [
    {
     "data": {
      "text/plain": [
       "6×6 adjoint(::Matrix{Bool}) with eltype Bool:\n",
       " 0  1  0  1  0  1\n",
       " 0  0  0  1  1  0\n",
       " 1  0  0  0  0  1\n",
       " 0  0  1  0  0  0\n",
       " 1  0  1  0  0  1\n",
       " 1  1  1  1  0  0"
      ]
     },
     "execution_count": 29,
     "metadata": {},
     "output_type": "execute_result"
    }
   ],
   "source": [
    "using DSP\n",
    "data = reduce(hcat,[[y .=== '#' for y in x] for x in readlines(\"input.txt\")])'\n",
    "sample = reduce(hcat,[[y .=== '#' for y in x] for x in readlines(\"sample.txt\")])'"
   ]
  },
  {
   "cell_type": "code",
   "execution_count": 31,
   "id": "2c48bc25",
   "metadata": {
    "ExecuteTime": {
     "end_time": "2022-03-25T11:08:35.749000+01:00",
     "start_time": "2022-03-25T10:08:35.694Z"
    },
    "scrolled": false
   },
   "outputs": [
    {
     "data": {
      "text/plain": [
       "6×6 BitMatrix:\n",
       " 0  0  1  1  0  0\n",
       " 0  0  1  1  0  1\n",
       " 0  0  0  1  1  0\n",
       " 0  0  0  0  0  0\n",
       " 1  0  0  0  0  0\n",
       " 1  0  1  1  0  0"
      ]
     },
     "execution_count": 31,
     "metadata": {},
     "output_type": "execute_result"
    }
   ],
   "source": [
    "function step(data)\n",
    "    kernel = [[1, 1, 1];; [1, 10, 1];; [1, 1, 1]]\n",
    "    convstep = conv(kernel, data)[2:end-1,2:end-1]\n",
    "    nextstep = (convstep .=== 3 .|| convstep .=== 12 .|| convstep .=== 13)\n",
    "    return nextstep\n",
    "end\n",
    "step(sample)"
   ]
  },
  {
   "cell_type": "code",
   "execution_count": 32,
   "id": "292c9238",
   "metadata": {
    "ExecuteTime": {
     "end_time": "2022-03-25T11:09:42.869000+01:00",
     "start_time": "2022-03-25T10:09:42.172Z"
    }
   },
   "outputs": [
    {
     "name": "stdout",
     "output_type": "stream",
     "text": [
      "814\n"
     ]
    }
   ],
   "source": [
    "inpdata = copy(data)\n",
    "for _ in 1:100\n",
    "    inpdata = step(inpdata)\n",
    "end\n",
    "println(sum(inpdata))"
   ]
  },
  {
   "cell_type": "code",
   "execution_count": 43,
   "id": "3fa10daa",
   "metadata": {
    "ExecuteTime": {
     "end_time": "2022-03-25T11:13:20.206000+01:00",
     "start_time": "2022-03-25T10:13:20.117Z"
    },
    "scrolled": false
   },
   "outputs": [
    {
     "data": {
      "text/plain": [
       "6×6 BitMatrix:\n",
       " 1  0  1  1  0  1\n",
       " 1  1  1  1  0  1\n",
       " 0  0  0  1  1  0\n",
       " 0  0  0  0  0  0\n",
       " 1  0  0  0  1  0\n",
       " 1  0  1  1  1  1"
      ]
     },
     "execution_count": 43,
     "metadata": {},
     "output_type": "execute_result"
    }
   ],
   "source": [
    "function step2(data)\n",
    "    kernel = [[1, 1, 1];; [1, 10, 1];; [1, 1, 1]]\n",
    "    convstep = conv(kernel, data)[2:end-1,2:end-1]\n",
    "    nextstep = (convstep .=== 3 .|| convstep .=== 12 .|| convstep .=== 13)\n",
    "    nextstep[1:end-1:end, 1:end-1:end] .= 1\n",
    "    return nextstep\n",
    "end\n",
    "sample2 = copy(sample)\n",
    "sample2[1:end-1:end, 1:end-1:end] .= 1\n",
    "step2(sample2)"
   ]
  },
  {
   "cell_type": "code",
   "execution_count": 42,
   "id": "3fe84980",
   "metadata": {
    "ExecuteTime": {
     "end_time": "2022-03-25T11:12:48.483000+01:00",
     "start_time": "2022-03-25T10:12:48.175Z"
    }
   },
   "outputs": [
    {
     "name": "stdout",
     "output_type": "stream",
     "text": [
      "924\n"
     ]
    }
   ],
   "source": [
    "inpdata = copy(data)\n",
    "inpdata[1:end-1:end, 1:end-1:end] .= 1\n",
    "for _ in 1:100\n",
    "    inpdata = step2(inpdata)\n",
    "end\n",
    "println(sum(inpdata))"
   ]
  },
  {
   "cell_type": "code",
   "execution_count": 38,
   "id": "b319a42c",
   "metadata": {
    "ExecuteTime": {
     "end_time": "2022-03-25T11:11:36.017000+01:00",
     "start_time": "2022-03-25T10:11:35.903Z"
    }
   },
   "outputs": [
    {
     "data": {
      "text/plain": [
       "4-element Vector{Int64}:\n",
       " 1\n",
       " 3\n",
       " 5\n",
       " 7"
      ]
     },
     "execution_count": 38,
     "metadata": {},
     "output_type": "execute_result"
    }
   ],
   "source": []
  },
  {
   "cell_type": "code",
   "execution_count": null,
   "id": "fba5a0e6",
   "metadata": {},
   "outputs": [],
   "source": [
    "(n, m) = size(sample)\n",
    "psample = padarray(sample, Pad(1,1))\n",
    "psample[0, :] .= 0\n",
    "psample[:, 0] .= 0\n",
    "psample[end, :] .= 0\n",
    "psample[:, end] .= 0\n",
    "psample"
   ]
  }
 ],
 "metadata": {
  "kernelspec": {
   "display_name": "Julia 1.7.0",
   "language": "julia",
   "name": "julia-1.7"
  },
  "language_info": {
   "file_extension": ".jl",
   "mimetype": "application/julia",
   "name": "julia",
   "version": "1.7.0"
  }
 },
 "nbformat": 4,
 "nbformat_minor": 5
}
