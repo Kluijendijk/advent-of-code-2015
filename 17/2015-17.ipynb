{
 "cells": [
  {
   "cell_type": "code",
   "execution_count": 9,
   "id": "deb196be",
   "metadata": {
    "ExecuteTime": {
     "end_time": "2022-03-25T00:23:45.792000+01:00",
     "start_time": "2022-03-24T23:23:45.572Z"
    },
    "scrolled": true
   },
   "outputs": [
    {
     "name": "stdout",
     "output_type": "stream",
     "text": [
      "[20, 15, 10, 5, 5]\n",
      "[50, 44, 11, 49, 42, 46, 18, 32, 26, 40, 21, 7, 18, 43, 10, 47, 36, 24, 22, 40]\n"
     ]
    }
   ],
   "source": [
    "using DataStructures\n",
    "data = [parse(Int, x) for x in readlines(\"input.txt\")]\n",
    "sample = [parse(Int, x) for x in readlines(\"sample.txt\")]\n",
    "println(sample)\n",
    "println(data)\n",
    "#data = sample"
   ]
  },
  {
   "cell_type": "code",
   "execution_count": 10,
   "id": "93ac20b2",
   "metadata": {
    "ExecuteTime": {
     "end_time": "2022-03-25T00:23:47.194000+01:00",
     "start_time": "2022-03-24T23:23:47.095Z"
    }
   },
   "outputs": [
    {
     "data": {
      "text/plain": [
       "4"
      ]
     },
     "execution_count": 10,
     "metadata": {},
     "output_type": "execute_result"
    }
   ],
   "source": [
    "target = 150 #change to 25 for sample\n",
    "\n",
    "depths = DefaultDict(0)\n",
    "\n",
    "function combs_to_target(data, target, depth=1)\n",
    "    dcopy = copy(data)\n",
    "    if target == 0\n",
    "        depths[depth] += 1\n",
    "        return 1 \n",
    "    end\n",
    "    combs = 0\n",
    "    for i in 1:length(dcopy)\n",
    "        _guess = pop!(dcopy)\n",
    "        if _guess <= target\n",
    "            combs += combs_to_target(dcopy, target-_guess, depth+1)\n",
    "        end\n",
    "    end\n",
    "    return combs\n",
    "end\n",
    "combs_to_target(sample, 25)"
   ]
  },
  {
   "cell_type": "code",
   "execution_count": 11,
   "id": "2c48bc25",
   "metadata": {
    "ExecuteTime": {
     "end_time": "2022-03-25T00:23:49.540000+01:00",
     "start_time": "2022-03-24T23:23:49.538Z"
    },
    "scrolled": false
   },
   "outputs": [
    {
     "data": {
      "text/plain": [
       "654"
      ]
     },
     "execution_count": 11,
     "metadata": {},
     "output_type": "execute_result"
    }
   ],
   "source": [
    "depths = DefaultDict(0)\n",
    "combs_to_target(data, target)"
   ]
  },
  {
   "cell_type": "code",
   "execution_count": 12,
   "id": "292c9238",
   "metadata": {
    "ExecuteTime": {
     "end_time": "2022-03-25T00:23:52.670000+01:00",
     "start_time": "2022-03-24T23:23:51.471Z"
    }
   },
   "outputs": [
    {
     "data": {
      "text/plain": [
       "DefaultDict{Any, Any, Int64} with 5 entries:\n",
       "  5 => 57\n",
       "  6 => 231\n",
       "  7 => 262\n",
       "  9 => 7\n",
       "  8 => 97"
      ]
     },
     "execution_count": 12,
     "metadata": {},
     "output_type": "execute_result"
    }
   ],
   "source": [
    "depths"
   ]
  },
  {
   "cell_type": "code",
   "execution_count": null,
   "id": "3fa10daa",
   "metadata": {
    "ExecuteTime": {
     "end_time": "2022-03-24T15:15:02.489000+01:00",
     "start_time": "2022-03-24T14:15:01.827Z"
    },
    "scrolled": false
   },
   "outputs": [],
   "source": []
  },
  {
   "cell_type": "code",
   "execution_count": null,
   "id": "3fe84980",
   "metadata": {
    "ExecuteTime": {
     "end_time": "2022-03-21T12:27:10.500000+01:00",
     "start_time": "2022-03-21T11:27:10.496Z"
    }
   },
   "outputs": [],
   "source": []
  },
  {
   "cell_type": "code",
   "execution_count": null,
   "id": "b319a42c",
   "metadata": {
    "ExecuteTime": {
     "end_time": "2022-03-21T11:54:53.956000+01:00",
     "start_time": "2022-03-21T10:54:53.602Z"
    }
   },
   "outputs": [],
   "source": []
  },
  {
   "cell_type": "code",
   "execution_count": null,
   "id": "fba5a0e6",
   "metadata": {},
   "outputs": [],
   "source": []
  }
 ],
 "metadata": {
  "kernelspec": {
   "display_name": "Julia 1.7.0",
   "language": "julia",
   "name": "julia-1.7"
  },
  "language_info": {
   "file_extension": ".jl",
   "mimetype": "application/julia",
   "name": "julia",
   "version": "1.7.0"
  }
 },
 "nbformat": 4,
 "nbformat_minor": 5
}
