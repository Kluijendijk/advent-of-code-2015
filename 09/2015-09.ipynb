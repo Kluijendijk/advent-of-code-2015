{
 "cells": [
  {
   "cell_type": "code",
   "execution_count": 2,
   "id": "deb196be",
   "metadata": {
    "ExecuteTime": {
     "end_time": "2022-03-21T11:25:17.822000+01:00",
     "start_time": "2022-03-21T10:25:12.641Z"
    },
    "scrolled": true
   },
   "outputs": [
    {
     "data": {
      "text/plain": [
       "8-element Vector{String}:\n",
       " \"Faerun\"\n",
       " \"Norrath\"\n",
       " \"Tristram\"\n",
       " \"AlphaCentauri\"\n",
       " \"Arbre\"\n",
       " \"Snowdin\"\n",
       " \"Tambi\"\n",
       " \"Straylight\""
      ]
     },
     "execution_count": 2,
     "metadata": {},
     "output_type": "execute_result"
    }
   ],
   "source": [
    "using DelimitedFiles\n",
    "data = open(\"input.txt\")\n",
    "data = readdlm(data, String)\n",
    "cities = unique(data[:,1:2:4])\n",
    "cities"
   ]
  },
  {
   "cell_type": "code",
   "execution_count": 4,
   "id": "2c48bc25",
   "metadata": {
    "ExecuteTime": {
     "end_time": "2022-03-21T11:25:39.409000+01:00",
     "start_time": "2022-03-21T10:25:38.036Z"
    },
    "scrolled": false
   },
   "outputs": [
    {
     "data": {
      "text/plain": [
       "8×8 Matrix{Int64}:\n",
       "  -1  129   58   13   24   60  71  67\n",
       " 129   -1  142   15  135   75  82  54\n",
       "  58  142   -1  118  122  103  49  97\n",
       "  13   15  118   -1  116   12  18  91\n",
       "  24  135  122  116   -1  129  53  40\n",
       "  60   75  103   12  129   -1  15  99\n",
       "  71   82   49   18   53   15  -1  70\n",
       "  67   54   97   91   40   99  70  -1"
      ]
     },
     "execution_count": 4,
     "metadata": {},
     "output_type": "execute_result"
    }
   ],
   "source": [
    "dists = fill(-1, (length(cities), length(cities)))\n",
    "indexes = Dict(cities .=> 1:length(cities))\n",
    "for line in 1:size(data, 1)\n",
    "    dists[indexes[data[line, 1]], indexes[data[line, 3]]] = parse(Int, data[line, 5])\n",
    "    dists[indexes[data[line, 3]], indexes[data[line, 1]]] = parse(Int, data[line, 5])\n",
    "end\n",
    "dists"
   ]
  },
  {
   "cell_type": "code",
   "execution_count": 31,
   "id": "292c9238",
   "metadata": {
    "ExecuteTime": {
     "end_time": "2021-12-28T12:13:49.665000-05:00",
     "start_time": "2021-12-28T17:13:49.438Z"
    }
   },
   "outputs": [
    {
     "name": "stdout",
     "output_type": "stream",
     "text": [
      "207[2, 8, 5, 1, 4, 6, 7, 3]\n"
     ]
    }
   ],
   "source": [
    "function min_dist(loc, left)\n",
    "    path = []\n",
    "    min = Inf\n",
    "    if length(left) == 1\n",
    "        return [loc, left[1]], dists[loc,left[1]]\n",
    "    end\n",
    "    for i in 1:length(left)\n",
    "        _path, _min = min_dist(left[i], cat(left[1:i-1],left[i+1:end], dims=1))\n",
    "        _min += dists[loc, left[i]]\n",
    "        if _min < min\n",
    "            min = _min\n",
    "            path = _path\n",
    "        end\n",
    "    end\n",
    "    return cat([loc], path, dims=1), min\n",
    "end\n",
    "min = Inf\n",
    "path = []\n",
    "for i in 1:length(cities)\n",
    "    _path, _min = min_dist(i, filter(x->x!=i, Vector(1:length(cities))))\n",
    "    if _min < min\n",
    "        min = _min\n",
    "        path = _path\n",
    "    end\n",
    "end\n",
    "println(min, path)"
   ]
  },
  {
   "cell_type": "code",
   "execution_count": 33,
   "id": "587793fc",
   "metadata": {
    "ExecuteTime": {
     "end_time": "2021-12-28T12:14:30.589000-05:00",
     "start_time": "2021-12-28T17:14:30.446Z"
    },
    "scrolled": true
   },
   "outputs": [
    {
     "name": "stdout",
     "output_type": "stream",
     "text": [
      "804\n"
     ]
    }
   ],
   "source": [
    "function max_dist(loc, left)\n",
    "    max = 0\n",
    "    if length(left) == 1\n",
    "        return dists[loc,left[1]]\n",
    "    end\n",
    "    for i in 1:length(left)\n",
    "        _max = max_dist(left[i], cat(left[1:i-1],left[i+1:end], dims=1))\n",
    "        _max += dists[loc, left[i]]\n",
    "        if _max > max\n",
    "            max = _max\n",
    "        end\n",
    "    end\n",
    "    return max\n",
    "end\n",
    "max = 0\n",
    "for i in 1:length(cities)\n",
    "    _max = max_dist(i, filter(x->x!=i, Vector(1:length(cities))))\n",
    "    if _max > max\n",
    "        max = _max\n",
    "    end\n",
    "end\n",
    "println(max)"
   ]
  },
  {
   "cell_type": "code",
   "execution_count": 3,
   "id": "3fa10daa",
   "metadata": {
    "ExecuteTime": {
     "end_time": "2022-03-21T11:25:21.293000+01:00",
     "start_time": "2022-03-21T10:25:20.396Z"
    },
    "scrolled": false
   },
   "outputs": [
    {
     "data": {
      "text/plain": [
       "28×5 Matrix{String}:\n",
       " \"Faerun\"         \"to\"  \"Norrath\"        \"=\"  \"129\"\n",
       " \"Faerun\"         \"to\"  \"Tristram\"       \"=\"  \"58\"\n",
       " \"Faerun\"         \"to\"  \"AlphaCentauri\"  \"=\"  \"13\"\n",
       " \"Faerun\"         \"to\"  \"Arbre\"          \"=\"  \"24\"\n",
       " \"Faerun\"         \"to\"  \"Snowdin\"        \"=\"  \"60\"\n",
       " \"Faerun\"         \"to\"  \"Tambi\"          \"=\"  \"71\"\n",
       " \"Faerun\"         \"to\"  \"Straylight\"     \"=\"  \"67\"\n",
       " \"Norrath\"        \"to\"  \"Tristram\"       \"=\"  \"142\"\n",
       " \"Norrath\"        \"to\"  \"AlphaCentauri\"  \"=\"  \"15\"\n",
       " \"Norrath\"        \"to\"  \"Arbre\"          \"=\"  \"135\"\n",
       " \"Norrath\"        \"to\"  \"Snowdin\"        \"=\"  \"75\"\n",
       " \"Norrath\"        \"to\"  \"Tambi\"          \"=\"  \"82\"\n",
       " \"Norrath\"        \"to\"  \"Straylight\"     \"=\"  \"54\"\n",
       " ⋮                                            \n",
       " \"Tristram\"       \"to\"  \"Tambi\"          \"=\"  \"49\"\n",
       " \"Tristram\"       \"to\"  \"Straylight\"     \"=\"  \"97\"\n",
       " \"AlphaCentauri\"  \"to\"  \"Arbre\"          \"=\"  \"116\"\n",
       " \"AlphaCentauri\"  \"to\"  \"Snowdin\"        \"=\"  \"12\"\n",
       " \"AlphaCentauri\"  \"to\"  \"Tambi\"          \"=\"  \"18\"\n",
       " \"AlphaCentauri\"  \"to\"  \"Straylight\"     \"=\"  \"91\"\n",
       " \"Arbre\"          \"to\"  \"Snowdin\"        \"=\"  \"129\"\n",
       " \"Arbre\"          \"to\"  \"Tambi\"          \"=\"  \"53\"\n",
       " \"Arbre\"          \"to\"  \"Straylight\"     \"=\"  \"40\"\n",
       " \"Snowdin\"        \"to\"  \"Tambi\"          \"=\"  \"15\"\n",
       " \"Snowdin\"        \"to\"  \"Straylight\"     \"=\"  \"99\"\n",
       " \"Tambi\"          \"to\"  \"Straylight\"     \"=\"  \"70\""
      ]
     },
     "execution_count": 3,
     "metadata": {},
     "output_type": "execute_result"
    }
   ],
   "source": [
    "data"
   ]
  },
  {
   "cell_type": "code",
   "execution_count": null,
   "id": "b319a42c",
   "metadata": {},
   "outputs": [],
   "source": []
  }
 ],
 "metadata": {
  "kernelspec": {
   "display_name": "Julia 1.7.0",
   "language": "julia",
   "name": "julia-1.7"
  },
  "language_info": {
   "file_extension": ".jl",
   "mimetype": "application/julia",
   "name": "julia",
   "version": "1.7.0"
  }
 },
 "nbformat": 4,
 "nbformat_minor": 5
}
