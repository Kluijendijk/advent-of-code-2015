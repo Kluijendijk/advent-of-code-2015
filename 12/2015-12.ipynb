{
 "cells": [
  {
   "cell_type": "code",
   "execution_count": 1,
   "id": "deb196be",
   "metadata": {
    "ExecuteTime": {
     "end_time": "2022-03-20T17:08:46.353000+01:00",
     "start_time": "2022-03-20T16:08:43.100Z"
    },
    "scrolled": true
   },
   "outputs": [
    {
     "data": {
      "text/plain": [
       "Dict{String, Any} with 9 entries:\n",
       "  \"i\" => Dict{String, Any}(\"f\"=>Dict{String, Any}(\"f\"=>Dict{String, Any}(\"f\"=>1…\n",
       "  \"f\" => Dict{String, Any}(\"b\"=>87, \"a\"=>Any[\"violet\"])\n",
       "  \"g\" => Any[Any[\"red\", \"orange\", \"orange\", 172, 154, Dict{String, Any}(\"f\"=>\"b…\n",
       "  \"c\" => \"blue\"\n",
       "  \"e\" => Dict{String, Any}(\"b\"=>Any[Any[Dict{String, Any}(\"c\"=>0, \"b\"=>\"green\",…\n",
       "  \"b\" => Any[Any[149, Any[Dict{String, Any}(\"f\"=>-4, \"g\"=>\"violet\", \"c\"=>-30, \"…\n",
       "  \"a\" => Dict{String, Any}(\"c\"=>Any[Any[48, \"blue\", Any[49], \"orange\", Dict{Str…\n",
       "  \"h\" => Any[Any[19], \"orange\", Any[Dict{String, Any}(\"f\"=>-24, \"g\"=>\"green\", \"…\n",
       "  \"d\" => Dict{String, Any}(\"c\"=>\"green\", \"b\"=>Any[136, Dict{String, Any}(\"c\"=>D…"
      ]
     },
     "execution_count": 1,
     "metadata": {},
     "output_type": "execute_result"
    }
   ],
   "source": [
    "import JSON\n",
    "data = JSON.parsefile(\"input.json\")\n",
    "data"
   ]
  },
  {
   "cell_type": "code",
   "execution_count": 28,
   "id": "2c48bc25",
   "metadata": {
    "ExecuteTime": {
     "end_time": "2022-03-20T17:40:47.920000+01:00",
     "start_time": "2022-03-20T16:40:47.869Z"
    },
    "scrolled": false
   },
   "outputs": [
    {
     "data": {
      "text/plain": [
       "119433"
      ]
     },
     "execution_count": 28,
     "metadata": {},
     "output_type": "execute_result"
    }
   ],
   "source": [
    "function sum_of_dict(data)\n",
    "    sum = 0\n",
    "    for (key, value) in data\n",
    "        if isa(value, Dict)\n",
    "           sum += sum_of_dict(value)\n",
    "        elseif isa(value, Array)\n",
    "            sum += sum_of_list(value)\n",
    "        elseif isa(value, Number)\n",
    "            sum += value\n",
    "        end\n",
    "    end\n",
    "    return sum\n",
    "end\n",
    "\n",
    "function sum_of_list(data)\n",
    "    sum = 0\n",
    "    for value in data\n",
    "        if isa(value, Dict)\n",
    "            sum += sum_of_dict(value)\n",
    "        elseif isa(value, Array)\n",
    "            sum += sum_of_list(value)\n",
    "        elseif isa(value, Number)\n",
    "            sum += value\n",
    "        end\n",
    "    end\n",
    "    return sum\n",
    "end\n",
    "\n",
    "sum_of_dict(data)"
   ]
  },
  {
   "cell_type": "code",
   "execution_count": 31,
   "id": "292c9238",
   "metadata": {
    "ExecuteTime": {
     "end_time": "2022-03-20T17:42:43.349000+01:00",
     "start_time": "2022-03-20T16:42:43.302Z"
    }
   },
   "outputs": [
    {
     "data": {
      "text/plain": [
       "68466"
      ]
     },
     "execution_count": 31,
     "metadata": {},
     "output_type": "execute_result"
    }
   ],
   "source": [
    "function sum_of_dict(data)\n",
    "    sum = 0\n",
    "    for (key, value) in data\n",
    "        if value == \"red\"\n",
    "            return 0\n",
    "        end\n",
    "        if isa(value, Dict)\n",
    "           sum += sum_of_dict(value)\n",
    "        elseif isa(value, Array)\n",
    "            sum += sum_of_list(value)\n",
    "        elseif isa(value, Number)\n",
    "            sum += value\n",
    "        end\n",
    "    end\n",
    "    return sum\n",
    "end\n",
    "\n",
    "function sum_of_list(data)\n",
    "    sum = 0\n",
    "    for value in data\n",
    "        if isa(value, Dict)\n",
    "            sum += sum_of_dict(value)\n",
    "        elseif isa(value, Array)\n",
    "            sum += sum_of_list(value)\n",
    "        elseif isa(value, Number)\n",
    "            sum += value\n",
    "        end\n",
    "    end\n",
    "    return sum\n",
    "end\n",
    "\n",
    "sum_of_dict(data)"
   ]
  },
  {
   "cell_type": "code",
   "execution_count": 4,
   "id": "3fa10daa",
   "metadata": {
    "ExecuteTime": {
     "end_time": "2022-03-20T04:00:03.261000+01:00",
     "start_time": "2022-03-20T01:30:43.315Z"
    },
    "scrolled": false
   },
   "outputs": [
    {
     "name": "stdout",
     "output_type": "stream",
     "text": [
      "5103798\n"
     ]
    }
   ],
   "source": []
  },
  {
   "cell_type": "code",
   "execution_count": 18,
   "id": "3fe84980",
   "metadata": {
    "ExecuteTime": {
     "end_time": "2022-03-20T02:20:16.866000+01:00",
     "start_time": "2022-03-20T01:20:16.864Z"
    }
   },
   "outputs": [
    {
     "data": {
      "text/plain": [
       "\"ab\""
      ]
     },
     "execution_count": 18,
     "metadata": {},
     "output_type": "execute_result"
    }
   ],
   "source": []
  },
  {
   "cell_type": "code",
   "execution_count": null,
   "id": "b319a42c",
   "metadata": {},
   "outputs": [],
   "source": []
  }
 ],
 "metadata": {
  "kernelspec": {
   "display_name": "Julia 1.7.0",
   "language": "julia",
   "name": "julia-1.7"
  },
  "language_info": {
   "file_extension": ".jl",
   "mimetype": "application/julia",
   "name": "julia",
   "version": "1.7.0"
  }
 },
 "nbformat": 4,
 "nbformat_minor": 5
}
