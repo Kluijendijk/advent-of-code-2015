{
 "cells": [
  {
   "cell_type": "code",
   "execution_count": 24,
   "id": "deb196be",
   "metadata": {},
   "outputs": [
    {
     "data": {
      "text/plain": [
       "\"ckczppom\""
      ]
     },
     "execution_count": 24,
     "metadata": {},
     "output_type": "execute_result"
    }
   ],
   "source": [
    "using MD5\n",
    "\n",
    "data = read(\"input.txt\", String)\n",
    "data"
   ]
  },
  {
   "cell_type": "code",
   "execution_count": 25,
   "id": "2c48bc25",
   "metadata": {},
   "outputs": [
    {
     "name": "stdout",
     "output_type": "stream",
     "text": [
      "117946\n"
     ]
    }
   ],
   "source": [
    "int = 0\n",
    "while bytes2hex(md5(data * string(int)))[1:5] != \"00000\"\n",
    "    int += 1\n",
    "end\n",
    "println(int)"
   ]
  },
  {
   "cell_type": "code",
   "execution_count": 26,
   "id": "587793fc",
   "metadata": {},
   "outputs": [
    {
     "name": "stdout",
     "output_type": "stream",
     "text": [
      "3938038\n"
     ]
    }
   ],
   "source": [
    "int = 0\n",
    "while bytes2hex(md5(data * string(int)))[1:6] != \"000000\"\n",
    "    int += 1\n",
    "end\n",
    "println(int)"
   ]
  },
  {
   "cell_type": "code",
   "execution_count": 49,
   "id": "3fa10daa",
   "metadata": {
    "scrolled": false
   },
   "outputs": [
    {
     "name": "stdout",
     "output_type": "stream",
     "text": [
      "2341\n"
     ]
    }
   ],
   "source": []
  },
  {
   "cell_type": "code",
   "execution_count": null,
   "id": "b319a42c",
   "metadata": {},
   "outputs": [],
   "source": []
  }
 ],
 "metadata": {
  "kernelspec": {
   "display_name": "Julia 1.7.0",
   "language": "julia",
   "name": "julia-1.7"
  },
  "language_info": {
   "file_extension": ".jl",
   "mimetype": "application/julia",
   "name": "julia",
   "version": "1.7.0"
  }
 },
 "nbformat": 4,
 "nbformat_minor": 5
}
