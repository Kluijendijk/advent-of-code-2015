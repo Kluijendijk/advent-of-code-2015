{
 "cells": [
  {
   "cell_type": "code",
   "execution_count": 11,
   "id": "deb196be",
   "metadata": {
    "ExecuteTime": {
     "end_time": "2022-03-21T12:51:57.063000+01:00",
     "start_time": "2022-03-21T11:51:56.740Z"
    },
    "scrolled": true
   },
   "outputs": [
    {
     "data": {
      "text/plain": [
       "9×3 adjoint(::Matrix{Int64}) with eltype Int64:\n",
       " 27   5  132\n",
       " 22   2   41\n",
       " 11   5   48\n",
       " 28   5  134\n",
       "  4  16   55\n",
       " 14   3   38\n",
       "  3  21   40\n",
       " 18   6  103\n",
       " 18   5   84"
      ]
     },
     "execution_count": 11,
     "metadata": {},
     "output_type": "execute_result"
    }
   ],
   "source": [
    "rawdata = readlines(\"input.txt\")\n",
    "p = r\"(?P<name>.*) can fly (?P<speed>\\d*) km\\/s for (?P<uptime>\\d*) seconds, but then must rest for (?P<downtime>\\d*) seconds\\.\"\n",
    "rawdata = [match(p, line) for line in rawdata]\n",
    "names = [x[\"name\"] for x in rawdata]\n",
    "data = parse.(Int, reduce(hcat, [x[\"speed\"], x[\"uptime\"], x[\"downtime\"]] for x in rawdata))'"
   ]
  },
  {
   "cell_type": "code",
   "execution_count": 12,
   "id": "93ac20b2",
   "metadata": {
    "ExecuteTime": {
     "end_time": "2022-03-21T12:51:57.074000+01:00",
     "start_time": "2022-03-21T11:51:56.914Z"
    }
   },
   "outputs": [
    {
     "data": {
      "text/plain": [
       "9-element Vector{Int64}:\n",
       " 2565\n",
       " 2596\n",
       " 2640\n",
       " 2548\n",
       " 2304\n",
       " 2590\n",
       " 2589\n",
       " 2484\n",
       " 2610"
      ]
     },
     "execution_count": 12,
     "metadata": {},
     "output_type": "execute_result"
    }
   ],
   "source": [
    "T = 2503\n",
    "cycle_time = data[:, 2] .+ data[:, 3]\n",
    "tot_dist(T) = (T .÷ cycle_time .* data[:,2] + min.(T .% cycle_time, data[:, 2])) .* data[:, 1]\n",
    "final_dists = tot_dist(T)"
   ]
  },
  {
   "cell_type": "code",
   "execution_count": 13,
   "id": "2c48bc25",
   "metadata": {
    "ExecuteTime": {
     "end_time": "2022-03-21T12:51:57.146000+01:00",
     "start_time": "2022-03-21T11:51:57.097Z"
    },
    "scrolled": false
   },
   "outputs": [
    {
     "data": {
      "text/plain": [
       "9-element Vector{Float64}:\n",
       "  164.0\n",
       "   46.0\n",
       "  647.0\n",
       " 1102.0\n",
       "    0.0\n",
       "    6.0\n",
       "  176.0\n",
       "  213.0\n",
       "  360.0"
      ]
     },
     "execution_count": 13,
     "metadata": {},
     "output_type": "execute_result"
    }
   ],
   "source": [
    "dists = zeros(length(cycle_time))\n",
    "points = zeros(length(cycle_time))\n",
    "for t in 1:T\n",
    "    moving = (t-1) .% cycle_time .< data[:, 2]\n",
    "    dists .+= moving .* data[:, 1]\n",
    "    points[dists .== maximum(dists)] .+= 1\n",
    "    if !all(dists .== tot_dist(t))\n",
    "        println(t)\n",
    "        println(dists)\n",
    "    end\n",
    "end\n",
    "points"
   ]
  },
  {
   "cell_type": "code",
   "execution_count": null,
   "id": "292c9238",
   "metadata": {
    "ExecuteTime": {
     "end_time": "2022-03-21T12:35:05.520000+01:00",
     "start_time": "2022-03-21T11:35:05.515Z"
    }
   },
   "outputs": [],
   "source": [
    "dists"
   ]
  },
  {
   "cell_type": "code",
   "execution_count": null,
   "id": "3fa10daa",
   "metadata": {
    "ExecuteTime": {
     "end_time": "2022-03-21T12:34:36.455000+01:00",
     "start_time": "2022-03-21T11:34:36.451Z"
    },
    "scrolled": false
   },
   "outputs": [],
   "source": [
    "final_dists"
   ]
  },
  {
   "cell_type": "code",
   "execution_count": null,
   "id": "3fe84980",
   "metadata": {
    "ExecuteTime": {
     "end_time": "2022-03-21T12:27:10.500000+01:00",
     "start_time": "2022-03-21T11:27:10.496Z"
    }
   },
   "outputs": [],
   "source": [
    "cycle_time"
   ]
  },
  {
   "cell_type": "code",
   "execution_count": null,
   "id": "b319a42c",
   "metadata": {
    "ExecuteTime": {
     "end_time": "2022-03-21T11:54:53.956000+01:00",
     "start_time": "2022-03-21T10:54:53.602Z"
    }
   },
   "outputs": [],
   "source": []
  },
  {
   "cell_type": "code",
   "execution_count": null,
   "id": "fba5a0e6",
   "metadata": {},
   "outputs": [],
   "source": []
  }
 ],
 "metadata": {
  "kernelspec": {
   "display_name": "Julia 1.7.0",
   "language": "julia",
   "name": "julia-1.7"
  },
  "language_info": {
   "file_extension": ".jl",
   "mimetype": "application/julia",
   "name": "julia",
   "version": "1.7.0"
  }
 },
 "nbformat": 4,
 "nbformat_minor": 5
}
