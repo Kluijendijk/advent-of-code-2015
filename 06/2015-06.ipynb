{
 "cells": [
  {
   "cell_type": "code",
   "execution_count": 17,
   "id": "deb196be",
   "metadata": {
    "scrolled": false
   },
   "outputs": [
    {
     "data": {
      "text/plain": [
       "300×1 Matrix{Any}:\n",
       " \"toggle 461,550 through 564,900\"\n",
       " \"turn off 370,39 through 425,839\"\n",
       " \"turn off 464,858 through 833,915\"\n",
       " \"turn off 812,389 through 865,874\"\n",
       " \"turn on 599,989 through 806,993\"\n",
       " \"turn on 376,415 through 768,548\"\n",
       " \"turn on 606,361 through 892,600\"\n",
       " \"turn off 448,208 through 645,684\"\n",
       " \"toggle 50,472 through 452,788\"\n",
       " \"toggle 205,417 through 703,826\"\n",
       " \"toggle 533,331 through 906,873\"\n",
       " \"toggle 857,493 through 989,970\"\n",
       " \"turn off 631,950 through 894,975\"\n",
       " ⋮\n",
       " \"toggle 836,599 through 857,767\"\n",
       " \"turn on 80,957 through 776,968\"\n",
       " \"toggle 277,130 through 513,244\"\n",
       " \"turn off 62,266 through 854,434\"\n",
       " \"turn on 792,764 through 872,842\"\n",
       " \"turn off 160,949 through 273,989\"\n",
       " \"turn off 664,203 through 694,754\"\n",
       " \"toggle 491,615 through 998,836\"\n",
       " \"turn off 210,146 through 221,482\"\n",
       " \"turn off 209,780 through 572,894\"\n",
       " \"turn on 766,112 through 792,868\"\n",
       " \"turn on 222,12 through 856,241\""
      ]
     },
     "execution_count": 17,
     "metadata": {},
     "output_type": "execute_result"
    }
   ],
   "source": [
    "using DelimitedFiles\n",
    "\n",
    "data = readdlm(\"input.txt\", '\\n')\n",
    "data"
   ]
  },
  {
   "cell_type": "code",
   "execution_count": 55,
   "id": "2c48bc25",
   "metadata": {},
   "outputs": [
    {
     "name": "stdout",
     "output_type": "stream",
     "text": [
      "543903"
     ]
    }
   ],
   "source": [
    "grid = falses(1000,1000)\n",
    "p = r\"(.*?) (\\d+),(\\d+) through (\\d+),(\\d+)\"\n",
    "for line in data\n",
    "    m = match(p, line)\n",
    "    x1, x2 = parse(Int, m[2]), parse(Int, m[4])\n",
    "    y1, y2 = parse(Int, m[3]), parse(Int, m[5])\n",
    "    if m[1] == \"toggle\"\n",
    "       grid[x1:x2, y1:y2] = iszero.(grid[x1:x2, y1:y2])\n",
    "    end\n",
    "    if m[1] == \"turn on\"\n",
    "       grid[x1:x2, y1:y2] .= 1 \n",
    "    end\n",
    "    if m[1] == \"turn off\"\n",
    "       grid[x1:x2, y1:y2] .= 0\n",
    "    end\n",
    "end\n",
    "print(sum(grid))"
   ]
  },
  {
   "cell_type": "code",
   "execution_count": 72,
   "id": "587793fc",
   "metadata": {
    "scrolled": true
   },
   "outputs": [
    {
     "name": "stdout",
     "output_type": "stream",
     "text": [
      "1.4687245e7"
     ]
    }
   ],
   "source": [
    "grid = zeros(1000,1000)\n",
    "p = r\"(.*?) (\\d+),(\\d+) through (\\d+),(\\d+)\"\n",
    "for line in data\n",
    "    m = match(p, line)\n",
    "    x1, x2 = parse(Int, m[2]), parse(Int, m[4])\n",
    "    y1, y2 = parse(Int, m[3]), parse(Int, m[5])\n",
    "    if m[1] == \"toggle\"\n",
    "       grid[x1:x2, y1:y2] .+= 2\n",
    "    end\n",
    "    if m[1] == \"turn on\"\n",
    "       grid[x1:x2, y1:y2] .+= 1 \n",
    "    end\n",
    "    if m[1] == \"turn off\"\n",
    "       grid[x1:x2, y1:y2] .= max.(0, grid[x1:x2, y1:y2] .- 1)\n",
    "    end\n",
    "\n",
    "end\n",
    "print(sum(grid))"
   ]
  },
  {
   "cell_type": "code",
   "execution_count": 69,
   "id": "3fa10daa",
   "metadata": {
    "scrolled": false
   },
   "outputs": [
    {
     "data": {
      "text/plain": [
       "5×5 Matrix{Float64}:\n",
       " 0.0  0.0  0.0  0.0  0.0\n",
       " 0.0  0.0  0.0  0.0  0.0\n",
       " 2.0  2.0  2.0  0.0  0.0\n",
       " 2.0  2.0  2.0  0.0  0.0\n",
       " 2.0  2.0  2.0  0.0  0.0"
      ]
     },
     "execution_count": 69,
     "metadata": {},
     "output_type": "execute_result"
    }
   ],
   "source": [
    "tst = zeros(5, 5)\n",
    "tst[3:5, 1:3] .= 3\n",
    "max.(0, tst .- 1)"
   ]
  },
  {
   "cell_type": "code",
   "execution_count": null,
   "id": "b319a42c",
   "metadata": {},
   "outputs": [],
   "source": []
  }
 ],
 "metadata": {
  "kernelspec": {
   "display_name": "Julia 1.7.0",
   "language": "julia",
   "name": "julia-1.7"
  },
  "language_info": {
   "file_extension": ".jl",
   "mimetype": "application/julia",
   "name": "julia",
   "version": "1.7.0"
  }
 },
 "nbformat": 4,
 "nbformat_minor": 5
}
