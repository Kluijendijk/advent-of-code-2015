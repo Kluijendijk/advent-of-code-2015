{
 "cells": [
  {
   "cell_type": "code",
   "execution_count": 22,
   "id": "deb196be",
   "metadata": {
    "ExecuteTime": {
     "end_time": "2022-03-31T17:08:17.985000+02:00",
     "start_time": "2022-03-31T15:08:17.928Z"
    },
    "scrolled": true
   },
   "outputs": [
    {
     "data": {
      "text/plain": [
       "3×47 Matrix{Any}:\n",
       "   \"jio\"   \"inc\"   \"tpl\"   \"inc\"  …   \"inc\"   \"jmp\"     \"hlf\"    \"jmp\"\n",
       "   \"a\"     \"a\"     \"a\"     \"a\"        \"a\"     nothing   \"a\"      nothing\n",
       " 18       0       0       0          0       2         0       -7"
      ]
     },
     "execution_count": 22,
     "metadata": {},
     "output_type": "execute_result"
    }
   ],
   "source": [
    "p = r\"(jio|inc|tpl|jmp|jie|hlf) *(a|b)?,? *(\\+?-?\\d*)?\"\n",
    "function matchaslist(line)\n",
    "    m = match(p, line)\n",
    "    if m[3] == \"\"\n",
    "        m3 = 0\n",
    "    else\n",
    "        m3 = tryparse(Int, m[3])\n",
    "    end\n",
    "    return [m[1],m[2], m3]\n",
    "end\n",
    "input = reduce(hcat, [matchaslist(line) for line in readlines(\"input.txt\")])"
   ]
  },
  {
   "cell_type": "code",
   "execution_count": 26,
   "id": "0c1a9a6f",
   "metadata": {
    "ExecuteTime": {
     "end_time": "2022-03-31T17:15:23.577000+02:00",
     "start_time": "2022-03-31T15:15:22.995Z"
    }
   },
   "outputs": [
    {
     "data": {
      "text/plain": [
       "Dict{String, Int64} with 2 entries:\n",
       "  \"b\" => 307\n",
       "  \"a\" => 1"
      ]
     },
     "execution_count": 26,
     "metadata": {},
     "output_type": "execute_result"
    }
   ],
   "source": [
    "ind = 1\n",
    "regs = Dict(\"a\" => 0, \"b\" => 0)\n",
    "n = size(input, 2)\n",
    "while true\n",
    "    if ind > n\n",
    "        break\n",
    "    end\n",
    "    cmd=input[1, ind]\n",
    "    reg = input[2, ind]\n",
    "    val = input[3, ind]\n",
    "    if cmd == \"jmp\"\n",
    "        ind += val\n",
    "        continue\n",
    "    elseif cmd == \"inc\"\n",
    "        regs[reg] += 1\n",
    "    elseif cmd == \"tpl\"\n",
    "        regs[reg] *= 3\n",
    "    elseif cmd == \"hlf\"\n",
    "        regs[reg] /= 2\n",
    "    elseif cmd == \"jie\"\n",
    "        if regs[reg] % 2 == 0\n",
    "            ind += val\n",
    "            continue\n",
    "        end\n",
    "    elseif cmd == \"jio\"\n",
    "        if regs[reg] == 1\n",
    "            ind += val\n",
    "            continue\n",
    "        end\n",
    "    end\n",
    "    ind += 1\n",
    "end\n",
    "regs"
   ]
  },
  {
   "cell_type": "code",
   "execution_count": 27,
   "id": "596933fd",
   "metadata": {
    "ExecuteTime": {
     "end_time": "2022-03-31T17:15:49.300000+02:00",
     "start_time": "2022-03-31T15:15:49.266Z"
    }
   },
   "outputs": [
    {
     "data": {
      "text/plain": [
       "Dict{String, Int64} with 2 entries:\n",
       "  \"b\" => 160\n",
       "  \"a\" => 1"
      ]
     },
     "execution_count": 27,
     "metadata": {},
     "output_type": "execute_result"
    }
   ],
   "source": [
    "ind = 1\n",
    "regs = Dict(\"a\" => 1, \"b\" => 0)\n",
    "n = size(input, 2)\n",
    "while true\n",
    "    if ind > n\n",
    "        break\n",
    "    end\n",
    "    cmd=input[1, ind]\n",
    "    reg = input[2, ind]\n",
    "    val = input[3, ind]\n",
    "    if cmd == \"jmp\"\n",
    "        ind += val\n",
    "        continue\n",
    "    elseif cmd == \"inc\"\n",
    "        regs[reg] += 1\n",
    "    elseif cmd == \"tpl\"\n",
    "        regs[reg] *= 3\n",
    "    elseif cmd == \"hlf\"\n",
    "        regs[reg] /= 2\n",
    "    elseif cmd == \"jie\"\n",
    "        if regs[reg] % 2 == 0\n",
    "            ind += val\n",
    "            continue\n",
    "        end\n",
    "    elseif cmd == \"jio\"\n",
    "        if regs[reg] == 1\n",
    "            ind += val\n",
    "            continue\n",
    "        end\n",
    "    end\n",
    "    ind += 1\n",
    "end\n",
    "regs"
   ]
  },
  {
   "cell_type": "code",
   "execution_count": null,
   "id": "2b334b61",
   "metadata": {
    "ExecuteTime": {
     "end_time": "2022-03-31T16:42:23.170000+02:00",
     "start_time": "2022-03-31T14:42:21.038Z"
    },
    "scrolled": true
   },
   "outputs": [],
   "source": []
  },
  {
   "cell_type": "code",
   "execution_count": null,
   "id": "bf6c1a97",
   "metadata": {
    "ExecuteTime": {
     "end_time": "2022-03-31T16:40:36.972000+02:00",
     "start_time": "2022-03-31T14:40:00.705Z"
    }
   },
   "outputs": [],
   "source": []
  },
  {
   "cell_type": "code",
   "execution_count": null,
   "id": "146ae369",
   "metadata": {
    "ExecuteTime": {
     "end_time": "2022-03-31T16:40:37.456000+02:00",
     "start_time": "2022-03-31T14:40:02.767Z"
    },
    "scrolled": false
   },
   "outputs": [],
   "source": []
  },
  {
   "cell_type": "code",
   "execution_count": null,
   "id": "62d7a4b2",
   "metadata": {
    "ExecuteTime": {
     "end_time": "2022-03-30T15:21:36.667000+02:00",
     "start_time": "2022-03-30T13:18:18.597Z"
    }
   },
   "outputs": [],
   "source": []
  },
  {
   "cell_type": "code",
   "execution_count": null,
   "id": "2c1f9e6e",
   "metadata": {
    "ExecuteTime": {
     "end_time": "2022-03-29T17:23:01.539000+02:00",
     "start_time": "2022-03-29T15:23:01.538Z"
    }
   },
   "outputs": [],
   "source": []
  },
  {
   "cell_type": "code",
   "execution_count": null,
   "id": "d3b50a10",
   "metadata": {
    "ExecuteTime": {
     "end_time": "2022-03-29T17:12:09.658000+02:00",
     "start_time": "2022-03-29T15:12:09.610Z"
    }
   },
   "outputs": [],
   "source": []
  },
  {
   "cell_type": "code",
   "execution_count": null,
   "id": "4ea9b8b3",
   "metadata": {
    "ExecuteTime": {
     "end_time": "2022-03-29T17:21:25.811000+02:00",
     "start_time": "2022-03-29T15:21:25.774Z"
    }
   },
   "outputs": [],
   "source": []
  },
  {
   "cell_type": "code",
   "execution_count": null,
   "id": "54705f5e",
   "metadata": {},
   "outputs": [],
   "source": []
  },
  {
   "cell_type": "code",
   "execution_count": null,
   "id": "00ed0948",
   "metadata": {},
   "outputs": [],
   "source": []
  }
 ],
 "metadata": {
  "kernelspec": {
   "display_name": "Julia 1.7.0",
   "language": "julia",
   "name": "julia-1.7"
  },
  "language_info": {
   "file_extension": ".jl",
   "mimetype": "application/julia",
   "name": "julia",
   "version": "1.7.0"
  }
 },
 "nbformat": 4,
 "nbformat_minor": 5
}
