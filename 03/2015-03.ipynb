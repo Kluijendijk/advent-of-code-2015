{
 "cells": [
  {
   "cell_type": "code",
   "execution_count": 44,
   "id": "deb196be",
   "metadata": {},
   "outputs": [
    {
     "data": {
      "text/plain": [
       "\"^><^>>>^<^v<v^^vv^><<^<><<vv^<>^<^v>^vv<>v><vv^^<>>^^^v<<vv><<^>^<^v<^>^v><<<v^<v<<<v<<vv<v<^><^>><>v>v^<<v^^<^v<><^>^<<^^^>v>>v^^<v>>^>vv><v>>^>>v^>^v>^<^^v>^>^^v<v>^^<v<>>v^^v><^><^<<>v^<^<^v<v>v^>>>v^v^>^<>^v<^^vv<v>^>^<>^^<vv^<><<v<^<^^>vv<>^>v<^>^v>v^>^v<>^><>><vv<\" ⋯ 7652 bytes ⋯ \"vv<v<<<v>v>>v<^v>>v>v^<<<>^>^>^<>v<^^vv><^v<<^v<vvv^vv>v<^<<^^vv^^>vv<^>v>^^<<v^<<^^v<>^>v<<^^<^>^^^v^^<v<^<^>>>v^vv^<^v>^<>^<^<v<^v>>>^<^v<><v<^vv<v>v><v^v^^v<vv><^^<><>^>v<^<^vv>><^v><v<>^<>^^>^<><<<v^>>^<>><<><v>vvv^<<^<vv<v><v<^<<<^>^>>v<^>>vv>^v^^^v<>v<>><>^vv^>vv^\""
      ]
     },
     "execution_count": 44,
     "metadata": {},
     "output_type": "execute_result"
    }
   ],
   "source": [
    "data = read(\"input.txt\", String)\n",
    "data"
   ]
  },
  {
   "cell_type": "code",
   "execution_count": 41,
   "id": "2c48bc25",
   "metadata": {},
   "outputs": [
    {
     "name": "stdout",
     "output_type": "stream",
     "text": [
      "2081\n"
     ]
    }
   ],
   "source": [
    "pos = [0, 0]\n",
    "houses = Set([[0,0]])\n",
    "moves = Dict('v'=>[0,-1], '^'=>[0,1], '>'=>[1,0],'<'=>[-1,0])\n",
    "for i in 1:length(data)\n",
    "    #find point\n",
    "    pt = data[i]\n",
    "    #move\n",
    "    pos = pos + moves[pt]\n",
    "    #deliver to house\n",
    "    union!(houses, tuple(pos))\n",
    "end\n",
    "println(length(houses))"
   ]
  },
  {
   "cell_type": "code",
   "execution_count": null,
   "id": "587793fc",
   "metadata": {},
   "outputs": [],
   "source": []
  },
  {
   "cell_type": "code",
   "execution_count": 49,
   "id": "3fa10daa",
   "metadata": {
    "scrolled": false
   },
   "outputs": [
    {
     "name": "stdout",
     "output_type": "stream",
     "text": [
      "2341\n"
     ]
    }
   ],
   "source": [
    "poss = [0, 0]\n",
    "posr = [0, 0]\n",
    "houses = Set([[0,0]])\n",
    "moves = Dict('v'=>[0,-1], '^'=>[0,1], '>'=>[1,0],'<'=>[-1,0])\n",
    "for i in 1:2:length(data)\n",
    "    #find point\n",
    "    pt = data[i]\n",
    "    #move\n",
    "    poss = poss + moves[pt]\n",
    "    #deliver to house\n",
    "    union!(houses, tuple(poss))\n",
    "end\n",
    "\n",
    "for i in 2:2:length(data)\n",
    "    #find point\n",
    "    pt = data[i]\n",
    "    #move\n",
    "    posr = posr + moves[pt]\n",
    "    #deliver to house\n",
    "    union!(houses, tuple(posr))\n",
    "end\n",
    "\n",
    "println(length(houses))"
   ]
  },
  {
   "cell_type": "code",
   "execution_count": null,
   "id": "b319a42c",
   "metadata": {},
   "outputs": [],
   "source": []
  }
 ],
 "metadata": {
  "kernelspec": {
   "display_name": "Julia 1.7.0",
   "language": "julia",
   "name": "julia-1.7"
  },
  "language_info": {
   "file_extension": ".jl",
   "mimetype": "application/julia",
   "name": "julia",
   "version": "1.7.0"
  }
 },
 "nbformat": 4,
 "nbformat_minor": 5
}
