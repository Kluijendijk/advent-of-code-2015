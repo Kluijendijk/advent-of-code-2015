{
 "cells": [
  {
   "cell_type": "code",
   "execution_count": 1,
   "id": "deb196be",
   "metadata": {
    "ExecuteTime": {
     "end_time": "2022-03-31T16:39:56.630000+02:00",
     "start_time": "2022-03-31T14:39:53.651Z"
    },
    "scrolled": true
   },
   "outputs": [
    {
     "data": {
      "text/plain": [
       "Dict{SubString{String}, Int64} with 2 entries:\n",
       "  \"HP\"     => 55\n",
       "  \"Damage\" => 8"
      ]
     },
     "execution_count": 1,
     "metadata": {},
     "output_type": "execute_result"
    }
   ],
   "source": [
    "using Memoize\n",
    "using DelimitedFiles\n",
    "input = readlines(\"input.txt\")\n",
    "input[1] = replace(input[1], \"Hit Points\" => \"HP\") #doesnt compile without this, very important\n",
    "hp = 50\n",
    "mp = 500\n",
    "input = [split(line, r\":\") for line in input]\n",
    "input = Dict([(i[1], parse(Int, i[2])) for i in input])\n",
    "input"
   ]
  },
  {
   "cell_type": "code",
   "execution_count": 2,
   "id": "0c1a9a6f",
   "metadata": {
    "ExecuteTime": {
     "end_time": "2022-03-31T16:39:57.935000+02:00",
     "start_time": "2022-03-31T14:39:53.817Z"
    }
   },
   "outputs": [
    {
     "data": {
      "text/plain": [
       "5×9 Matrix{Int64}:\n",
       "  53  4  0  0  0  0  0    0  0\n",
       "  73  2  2  0  0  0  0    0  0\n",
       " 113  0  0  0  0  7  6    0  0\n",
       " 173  0  0  3  6  0  0    0  0\n",
       " 229  0  0  0  0  0  0  101  5"
      ]
     },
     "execution_count": 2,
     "metadata": {},
     "output_type": "execute_result"
    }
   ],
   "source": [
    "spells = readdlm(\"spells.csv\", ';')\n",
    "spells = convert(Array{Int}, spells[2:end, 2:end])"
   ]
  },
  {
   "cell_type": "code",
   "execution_count": 10,
   "id": "596933fd",
   "metadata": {
    "ExecuteTime": {
     "end_time": "2022-03-31T16:43:04.084000+02:00",
     "start_time": "2022-03-31T14:42:28.640Z"
    }
   },
   "outputs": [
    {
     "data": {
      "text/plain": [
       "(953, Any[5, 4, 3, 1, 4, 1, 1, 1, 1])"
      ]
     },
     "execution_count": 10,
     "metadata": {},
     "output_type": "execute_result"
    }
   ],
   "source": [
    "function part_one(;spells, boss_hp, boss_dmg, player_hp, player_mana, debug=false)\n",
    "    min = Inf \n",
    "    #returns min mana needed to kill from a specific gamestate, cached\n",
    "    \n",
    "    @memoize function do_boss_turn(;bhp, php, pmp, bdot, bdot_dur, pa, pa_dur, pmreg, pmreg_dur, depth=0)\n",
    "        if php <= 0\n",
    "            return Inf, []\n",
    "        end\n",
    "\n",
    "        #tick dot effect\n",
    "        if bdot_dur > 0\n",
    "            bhp -= bdot\n",
    "        end\n",
    "        #check if boss is dead, if so it took 0 more mana\n",
    "        if bhp <= 0\n",
    "            return 0, []\n",
    "        end\n",
    "        #tick rest of effects\n",
    "        bdot_dur -= 1\n",
    "        pa_dur -= 1\n",
    "\n",
    "        if pmreg_dur > 0\n",
    "            pmp += pmreg\n",
    "        end\n",
    "        pmreg_dur -= 1\n",
    "        #remove effects from expired effects\n",
    "        if pa_dur <= 0 #since player armor doesn't matter at turn start, pa_dur does nothing benefitial at 1\n",
    "            pa = 0\n",
    "        end\n",
    "        if pmreg_dur <= 0\n",
    "            pmreg = 0\n",
    "        end\n",
    "        if bdot_dur <= 0\n",
    "            bdot = 0\n",
    "        end\n",
    "        php = php - max(1, boss_dmg - pa)\n",
    "        return sim_combat(bhp=bhp, php=php, pmp=pmp, bdot=bdot, \n",
    "            bdot_dur=bdot_dur, pa=pa, pa_dur=pa_dur, pmreg=pmreg, pmreg_dur=pmreg_dur, depth=depth)\n",
    "    end\n",
    "    \n",
    "    @memoize function sim_combat(;bhp, php, pmp, bdot, bdot_dur, pa, pa_dur, pmreg, pmreg_dur, depth=0)\n",
    "        #check if player is dead, if so it took Inf mana\n",
    "        if php <= 0\n",
    "            return Inf, []\n",
    "        end\n",
    "\n",
    "        #tick dot effect\n",
    "        if bdot_dur > 0\n",
    "            bhp -= bdot\n",
    "        end\n",
    "        #check if boss is dead, if so it took 0 more mana\n",
    "        if bhp <= 0\n",
    "            return 0, []\n",
    "        end\n",
    "        #tick rest of effects\n",
    "        bdot_dur -= 1\n",
    "        pa_dur -= 1\n",
    "\n",
    "        if pmreg_dur > 0\n",
    "            pmp += pmreg\n",
    "        end\n",
    "        pmreg_dur -= 1\n",
    "        #remove effects from expired effects\n",
    "        if pa_dur <= 0 #since player armor doesn't matter at turn start, pa_dur does nothing benefitial at 1\n",
    "            pa = 0\n",
    "        end\n",
    "        if pmreg_dur <= 0\n",
    "            pmreg = 0\n",
    "        end\n",
    "        if bdot_dur <= 0\n",
    "            bdot = 0\n",
    "        end\n",
    "        min_from_here = Inf\n",
    "        bpfh = []\n",
    "        #cycle through usable spells\n",
    "        for (ind, spell) in enumerate(eachrow(spells))\n",
    "            _bdot_dur = bdot_dur\n",
    "            _bdot = bdot\n",
    "            _pa_dur = pa_dur\n",
    "            _pa = pa\n",
    "            _pmreg_dur = pmreg_dur\n",
    "            _pmreg = pmreg\n",
    "            #check if enough mp to cast\n",
    "            if spell[1] > pmp\n",
    "                continue\n",
    "            end\n",
    "            #check if its not an active effect\n",
    "            if spell[5] > 0 #DoT\n",
    "                if bdot_dur > 0\n",
    "                    continue\n",
    "                end\n",
    "                _bdot_dur = spell[5]\n",
    "                _bdot = spell[4]\n",
    "            end\n",
    "            if spell[7] > 0 #player armor\n",
    "                if pa_dur > 0\n",
    "                    continue\n",
    "                end\n",
    "                _pa_dur = spell[7]\n",
    "                _pa = spell[6]\n",
    "            end\n",
    "            if spell[9] > 0\n",
    "                if pmreg_dur > 0\n",
    "                    continue\n",
    "                end\n",
    "                _pmreg_dur = spell[9]\n",
    "                _pmreg = spell[8]\n",
    "            end\n",
    "            if debug\n",
    "                tabs = reduce(*, [\"-\" for x in 1:depth])\n",
    "                print(\"$tabs Casting $ind at state:\")\n",
    "                println(\" $bhp|$php|$pmp|$bdot|$bdot_dur|$pa|$pa_dur|$pmreg|$pmreg_dur\")\n",
    "            end\n",
    "            min_from_spell, best_path = do_boss_turn(bhp=bhp-spell[2], php=php+spell[3], pmp=pmp-spell[1], bdot=_bdot, \n",
    "            bdot_dur=_bdot_dur, pa=_pa, pa_dur=_pa_dur, pmreg=_pmreg, pmreg_dur=_pmreg_dur, depth=depth+1)\n",
    "            min_from_spell = spell[1] + min_from_spell\n",
    "            if debug\n",
    "                println(\"$tabs Outcome: $min_from_spell with path: $best_path\")\n",
    "            end\n",
    "            best_path = vcat([ind], best_path)\n",
    "            if min_from_here >= min_from_spell\n",
    "                min_from_here = min_from_spell\n",
    "                bpfh = best_path\n",
    "            end\n",
    "        end\n",
    "        return min_from_here, bpfh\n",
    "    end\n",
    "    return sim_combat(bhp = boss_hp, php = player_hp, pmp = player_mana, bdot = 0, \n",
    "                       bdot_dur = 0, pa = 0, pa_dur = 0, pmreg = 0, pmreg_dur = 0)\n",
    "end\n",
    "\n",
    "part_one(spells = spells, boss_hp = input[\"HP\"], boss_dmg = input[\"Damage\"], player_hp = hp, player_mana = mp)"
   ]
  },
  {
   "cell_type": "code",
   "execution_count": 9,
   "id": "2b334b61",
   "metadata": {
    "ExecuteTime": {
     "end_time": "2022-03-31T16:42:23.170000+02:00",
     "start_time": "2022-03-31T14:42:21.038Z"
    },
    "scrolled": true
   },
   "outputs": [
    {
     "data": {
      "text/plain": [
       "(1289, Any[4, 5, 3, 4, 5, 2, 4, 2, 1])"
      ]
     },
     "execution_count": 9,
     "metadata": {},
     "output_type": "execute_result"
    }
   ],
   "source": [
    "function part_two(;spells, boss_hp, boss_dmg, player_hp, player_mana, debug=false)\n",
    "    min = Inf \n",
    "    #returns min mana needed to kill from a specific gamestate, cached\n",
    "    \n",
    "    @memoize function do_boss_turn(;bhp, php, pmp, bdot, bdot_dur, pa, pa_dur, pmreg, pmreg_dur, depth=0)\n",
    "        if php <= 0\n",
    "            return Inf, []\n",
    "        end\n",
    "\n",
    "        #tick dot effect\n",
    "        if bdot_dur > 0\n",
    "            bhp -= bdot\n",
    "        end\n",
    "        #check if boss is dead, if so it took 0 more mana\n",
    "        if bhp <= 0\n",
    "            return 0, []\n",
    "        end\n",
    "        #tick rest of effects\n",
    "        bdot_dur -= 1\n",
    "        pa_dur -= 1\n",
    "\n",
    "        if pmreg_dur > 0\n",
    "            pmp += pmreg\n",
    "        end\n",
    "        pmreg_dur -= 1\n",
    "        #remove effects from expired effects\n",
    "        if pa_dur <= 0 #since player armor doesn't matter at turn start, pa_dur does nothing benefitial at 1\n",
    "            pa = 0\n",
    "        end\n",
    "        if pmreg_dur <= 0\n",
    "            pmreg = 0\n",
    "        end\n",
    "        if bdot_dur <= 0\n",
    "            bdot = 0\n",
    "        end\n",
    "        php = php - max(1, boss_dmg - pa)\n",
    "        return sim_combat(bhp=bhp, php=php, pmp=pmp, bdot=bdot, \n",
    "            bdot_dur=bdot_dur, pa=pa, pa_dur=pa_dur, pmreg=pmreg, pmreg_dur=pmreg_dur, depth=depth)\n",
    "    end\n",
    "    \n",
    "    @memoize function sim_combat(;bhp, php, pmp, bdot, bdot_dur, pa, pa_dur, pmreg, pmreg_dur, depth=0)\n",
    "        #check if player is dead, if so it took Inf mana\n",
    "        php -= 1\n",
    "        if php <= 0\n",
    "            return Inf, []\n",
    "        end\n",
    "\n",
    "        #tick dot effect\n",
    "        if bdot_dur > 0\n",
    "            bhp -= bdot\n",
    "        end\n",
    "        #check if boss is dead, if so it took 0 more mana\n",
    "        if bhp <= 0\n",
    "            return 0, []\n",
    "        end\n",
    "        #tick rest of effects\n",
    "        bdot_dur -= 1\n",
    "        pa_dur -= 1\n",
    "\n",
    "        if pmreg_dur > 0\n",
    "            pmp += pmreg\n",
    "        end\n",
    "        pmreg_dur -= 1\n",
    "        #remove effects from expired effects\n",
    "        if pa_dur <= 0 #since player armor doesn't matter at turn start, pa_dur does nothing benefitial at 1\n",
    "            pa = 0\n",
    "        end\n",
    "        if pmreg_dur <= 0\n",
    "            pmreg = 0\n",
    "        end\n",
    "        if bdot_dur <= 0\n",
    "            bdot = 0\n",
    "        end\n",
    "        min_from_here = Inf\n",
    "        bpfh = []\n",
    "        #cycle through usable spells\n",
    "        for (ind, spell) in enumerate(eachrow(spells))\n",
    "            _bdot_dur = bdot_dur\n",
    "            _bdot = bdot\n",
    "            _pa_dur = pa_dur\n",
    "            _pa = pa\n",
    "            _pmreg_dur = pmreg_dur\n",
    "            _pmreg = pmreg\n",
    "            #check if enough mp to cast\n",
    "            if spell[1] > pmp\n",
    "                continue\n",
    "            end\n",
    "            #check if its not an active effect\n",
    "            if spell[5] > 0 #DoT\n",
    "                if bdot_dur > 0\n",
    "                    continue\n",
    "                end\n",
    "                _bdot_dur = spell[5]\n",
    "                _bdot = spell[4]\n",
    "            end\n",
    "            if spell[7] > 0 #player armor\n",
    "                if pa_dur > 0\n",
    "                    continue\n",
    "                end\n",
    "                _pa_dur = spell[7]\n",
    "                _pa = spell[6]\n",
    "            end\n",
    "            if spell[9] > 0\n",
    "                if pmreg_dur > 0\n",
    "                    continue\n",
    "                end\n",
    "                _pmreg_dur = spell[9]\n",
    "                _pmreg = spell[8]\n",
    "            end\n",
    "            if debug\n",
    "                tabs = reduce(*, [\"-\" for x in 1:depth])\n",
    "                print(\"$tabs Casting $ind at state:\")\n",
    "                println(\" $bhp|$php|$pmp|$bdot|$bdot_dur|$pa|$pa_dur|$pmreg|$pmreg_dur\")\n",
    "            end\n",
    "            min_from_spell, best_path = do_boss_turn(bhp=bhp-spell[2], php=php+spell[3], pmp=pmp-spell[1], bdot=_bdot, \n",
    "            bdot_dur=_bdot_dur, pa=_pa, pa_dur=_pa_dur, pmreg=_pmreg, pmreg_dur=_pmreg_dur, depth=depth+1)\n",
    "            min_from_spell = spell[1] + min_from_spell\n",
    "            if debug\n",
    "                println(\"$tabs Outcome: $min_from_spell with path: $best_path\")\n",
    "            end\n",
    "            best_path = vcat([ind], best_path)\n",
    "            if min_from_here >= min_from_spell\n",
    "                min_from_here = min_from_spell\n",
    "                bpfh = best_path\n",
    "            end\n",
    "        end\n",
    "        return min_from_here, bpfh\n",
    "    end\n",
    "    return sim_combat(bhp = boss_hp, php = player_hp, pmp = player_mana, bdot = 0, \n",
    "                       bdot_dur = 0, pa = 0, pa_dur = 0, pmreg = 0, pmreg_dur = 0)\n",
    "end\n",
    "\n",
    "part_two(spells = spells, boss_hp = input[\"HP\"], boss_dmg = input[\"Damage\"], player_hp = hp, player_mana = mp)"
   ]
  },
  {
   "cell_type": "code",
   "execution_count": 4,
   "id": "bf6c1a97",
   "metadata": {
    "ExecuteTime": {
     "end_time": "2022-03-31T16:40:36.972000+02:00",
     "start_time": "2022-03-31T14:40:00.705Z"
    }
   },
   "outputs": [
    {
     "data": {
      "text/plain": [
       "5×9 Matrix{Int64}:\n",
       "  53  4  0  0  0  0  0    0  0\n",
       "  73  2  2  0  0  0  0    0  0\n",
       " 113  0  0  0  0  7  6    0  0\n",
       " 173  0  0  3  6  0  0    0  0\n",
       " 229  0  0  0  0  0  0  101  5"
      ]
     },
     "execution_count": 4,
     "metadata": {},
     "output_type": "execute_result"
    }
   ],
   "source": [
    "mm = spells[1, :]\n",
    "drain = spells[2, :]\n",
    "shield = spells[3, :]\n",
    "poison = spells[4, :]\n",
    "rech = spells[5, :]\n",
    "blank = zeros(Int, 9)\n",
    "spells"
   ]
  },
  {
   "cell_type": "code",
   "execution_count": 5,
   "id": "146ae369",
   "metadata": {
    "ExecuteTime": {
     "end_time": "2022-03-31T16:40:37.456000+02:00",
     "start_time": "2022-03-31T14:40:02.767Z"
    },
    "scrolled": false
   },
   "outputs": [
    {
     "name": "stdout",
     "output_type": "stream",
     "text": [
      " Casting 1 at state: 18|10|1000|0|-1|0|-1|0|-1\n",
      "- Casting 2 at state: 18|9|887|0|-3|7|4|0|-3\n",
      "-- Casting 3 at state: 12|8|714|3|4|7|2|0|-5\n",
      "--- Casting 1 at state: 6|7|714|3|2|0|0|0|-7\n",
      "--- Outcome: 113 with path: Any[]\n",
      "--- Casting 3 at state: 6|7|714|3|2|0|0|0|-7\n",
      "--- Outcome: Inf with path: Any[]\n",
      "-- Outcome: 113 with path: Any[1]\n",
      "- Outcome: 286 with path: Any[3, 1]\n",
      "- Casting 3 at state: 18|9|887|0|-3|7|4|0|-3\n",
      "-- Casting 2 at state: 18|8|887|0|-5|7|2|0|-5\n",
      "--- Casting 1 at state: 12|7|714|3|4|0|0|0|-7\n",
      "---- Casting 3 at state: 6|6|601|3|2|7|4|0|-9\n",
      "---- Outcome: 0 with path: Any[]\n",
      "--- Outcome: 113 with path: Any[3]\n",
      "--- Casting 3 at state: 12|7|714|3|4|0|0|0|-7\n",
      "--- Outcome: Inf with path: Any[]\n",
      "-- Outcome: 286 with path: Any[1, 3]\n",
      "-- Casting 3 at state: 18|8|887|0|-5|7|2|0|-5\n",
      "--- Casting 1 at state: 18|7|887|0|-7|0|0|0|-7\n",
      "---- Casting 2 at state: 18|6|774|0|-9|7|4|0|-9\n",
      "----- Casting 3 at state: 12|5|601|3|4|7|2|0|-11\n",
      "------ Casting 1 at state: 6|4|601|3|2|0|0|0|-13\n",
      "------ Outcome: 113 with path: Any[]\n",
      "------ Casting 3 at state: 6|4|601|3|2|0|0|0|-13\n",
      "------ Outcome: Inf with path: Any[]\n",
      "----- Outcome: 113 with path: Any[1]\n",
      "---- Outcome: 286 with path: Any[3, 1]\n",
      "---- Casting 3 at state: 18|6|774|0|-9|7|4|0|-9\n",
      "----- Casting 2 at state: 18|5|774|0|-11|7|2|0|-11\n",
      "------ Casting 1 at state: 12|4|601|3|4|0|0|0|-13\n",
      "------- Casting 3 at state: 6|3|488|3|2|7|4|0|-15\n",
      "------- Outcome: 0 with path: Any[]\n",
      "------ Outcome: 113 with path: Any[3]\n",
      "------ Casting 3 at state: 12|4|601|3|4|0|0|0|-13\n",
      "------ Outcome: Inf with path: Any[]\n",
      "----- Outcome: 286 with path: Any[1, 3]\n",
      "----- Casting 3 at state: 18|5|774|0|-11|7|2|0|-11\n",
      "------ Casting 1 at state: 18|4|774|0|-13|0|0|0|-13\n",
      "------- Casting 2 at state: 18|3|661|0|-15|7|4|0|-15\n",
      "-------- Casting 3 at state: 12|2|488|3|4|7|2|0|-17\n",
      "--------- Casting 1 at state: 6|1|488|3|2|0|0|0|-19\n",
      "--------- Outcome: Inf with path: Any[]\n",
      "--------- Casting 3 at state: 6|1|488|3|2|0|0|0|-19\n",
      "--------- Outcome: Inf with path: Any[]\n",
      "-------- Outcome: Inf with path: Any[3]\n",
      "------- Outcome: Inf with path: Any[3, 3]\n",
      "------- Casting 3 at state: 18|3|661|0|-15|7|4|0|-15\n",
      "-------- Casting 2 at state: 18|2|661|0|-17|7|2|0|-17\n",
      "--------- Casting 1 at state: 12|1|488|3|4|0|0|0|-19\n",
      "--------- Outcome: Inf with path: Any[]\n",
      "--------- Casting 3 at state: 12|1|488|3|4|0|0|0|-19\n",
      "--------- Outcome: Inf with path: Any[]\n",
      "-------- Outcome: Inf with path: Any[3]\n",
      "-------- Casting 3 at state: 18|2|661|0|-17|7|2|0|-17\n",
      "--------- Casting 1 at state: 18|1|661|0|-19|0|0|0|-19\n",
      "--------- Outcome: Inf with path: Any[]\n",
      "--------- Casting 2 at state: 18|1|661|0|-19|0|0|0|-19\n",
      "--------- Outcome: Inf with path: Any[]\n",
      "--------- Casting 3 at state: 18|1|661|0|-19|0|0|0|-19\n",
      "--------- Outcome: Inf with path: Any[]\n",
      "-------- Outcome: Inf with path: Any[3]\n",
      "------- Outcome: Inf with path: Any[3, 3]\n",
      "------ Outcome: Inf with path: Any[3, 3, 3]\n",
      "------ Casting 2 at state: 18|4|774|0|-13|0|0|0|-13\n",
      "------ Outcome: Inf with path: Any[]\n",
      "------ Casting 3 at state: 18|4|774|0|-13|0|0|0|-13\n",
      "------ Outcome: Inf with path: Any[]\n",
      "----- Outcome: Inf with path: Any[3]\n",
      "---- Outcome: 286 with path: Any[2, 1, 3]\n",
      "--- Outcome: 399 with path: Any[3, 2, 1, 3]\n",
      "--- Casting 2 at state: 18|7|887|0|-7|0|0|0|-7\n",
      "--- Outcome: Inf with path: Any[]\n",
      "--- Casting 3 at state: 18|7|887|0|-7|0|0|0|-7\n",
      "--- Outcome: Inf with path: Any[]\n",
      "-- Outcome: 399 with path: Any[1, 3, 2, 1, 3]\n",
      "- Outcome: 286 with path: Any[2, 1, 3]\n",
      " Outcome: 399 with path: Any[3, 2, 1, 3]\n",
      " Casting 2 at state: 18|10|1000|0|-1|0|-1|0|-1\n",
      "- Casting 1 at state: 12|2|827|3|4|0|-3|0|-3\n",
      "-- Casting 3 at state: 6|1|714|3|2|7|4|0|-5\n",
      "-- Outcome: Inf with path: Any[]\n",
      "- Outcome: Inf with path: Any[3]\n",
      "- Casting 3 at state: 12|2|827|3|4|0|-3|0|-3\n",
      "- Outcome: Inf with path: Any[]\n",
      " Outcome: Inf with path: Any[3]\n",
      " Casting 3 at state: 18|10|1000|0|-1|0|-1|0|-1\n",
      "- Casting 1 at state: 18|2|1000|0|-3|0|-3|0|-3\n",
      "-- Casting 2 at state: 18|1|887|0|-5|7|4|0|-5\n",
      "-- Outcome: Inf with path: Any[]\n",
      "-- Casting 3 at state: 18|1|887|0|-5|7|4|0|-5\n",
      "-- Outcome: Inf with path: Any[]\n",
      "- Outcome: Inf with path: Any[3]\n",
      "- Casting 2 at state: 18|2|1000|0|-3|0|-3|0|-3\n",
      "- Outcome: Inf with path: Any[]\n",
      "- Casting 3 at state: 18|2|1000|0|-3|0|-3|0|-3\n",
      "- Outcome: Inf with path: Any[]\n",
      " Outcome: Inf with path: Any[3]\n"
     ]
    },
    {
     "data": {
      "text/plain": [
       "(399, Any[1, 3, 2, 1, 3])"
      ]
     },
     "execution_count": 5,
     "metadata": {},
     "output_type": "execute_result"
    }
   ],
   "source": [
    "tstspells = hcat(shield, poison, blank)'\n",
    "part_one(spells = tstspells, boss_hp = 18, boss_dmg = 8, player_hp = 10, player_mana = 1000, debug=true)"
   ]
  },
  {
   "cell_type": "code",
   "execution_count": null,
   "id": "62d7a4b2",
   "metadata": {
    "ExecuteTime": {
     "end_time": "2022-03-30T15:21:36.667000+02:00",
     "start_time": "2022-03-30T13:18:18.597Z"
    }
   },
   "outputs": [],
   "source": []
  },
  {
   "cell_type": "code",
   "execution_count": null,
   "id": "2c1f9e6e",
   "metadata": {
    "ExecuteTime": {
     "end_time": "2022-03-29T17:23:01.539000+02:00",
     "start_time": "2022-03-29T15:23:01.538Z"
    }
   },
   "outputs": [],
   "source": []
  },
  {
   "cell_type": "code",
   "execution_count": null,
   "id": "d3b50a10",
   "metadata": {
    "ExecuteTime": {
     "end_time": "2022-03-29T17:12:09.658000+02:00",
     "start_time": "2022-03-29T15:12:09.610Z"
    }
   },
   "outputs": [],
   "source": []
  },
  {
   "cell_type": "code",
   "execution_count": null,
   "id": "4ea9b8b3",
   "metadata": {
    "ExecuteTime": {
     "end_time": "2022-03-29T17:21:25.811000+02:00",
     "start_time": "2022-03-29T15:21:25.774Z"
    }
   },
   "outputs": [],
   "source": []
  },
  {
   "cell_type": "code",
   "execution_count": null,
   "id": "54705f5e",
   "metadata": {},
   "outputs": [],
   "source": []
  },
  {
   "cell_type": "code",
   "execution_count": null,
   "id": "00ed0948",
   "metadata": {},
   "outputs": [],
   "source": []
  }
 ],
 "metadata": {
  "kernelspec": {
   "display_name": "Julia 1.7.0",
   "language": "julia",
   "name": "julia-1.7"
  },
  "language_info": {
   "file_extension": ".jl",
   "mimetype": "application/julia",
   "name": "julia",
   "version": "1.7.0"
  }
 },
 "nbformat": 4,
 "nbformat_minor": 5
}
