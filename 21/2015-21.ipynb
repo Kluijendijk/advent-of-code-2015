{
 "cells": [
  {
   "cell_type": "code",
   "execution_count": 2,
   "id": "deb196be",
   "metadata": {
    "ExecuteTime": {
     "end_time": "2022-03-29T17:08:44.693000+02:00",
     "start_time": "2022-03-29T15:08:42.842Z"
    },
    "scrolled": true
   },
   "outputs": [
    {
     "data": {
      "text/plain": [
       "Dict{SubString{String}, Int64} with 3 entries:\n",
       "  \"Armor\"  => 2\n",
       "  \"HP\"     => 109\n",
       "  \"Damage\" => 8"
      ]
     },
     "execution_count": 2,
     "metadata": {},
     "output_type": "execute_result"
    }
   ],
   "source": [
    "using Memoize\n",
    "input = readlines(\"input.txt\")\n",
    "input[1] = replace(input[1], \"Hit Points\" => \"HP\") #doesnt compile without this, very important\n",
    "hp = 100\n",
    "input = [split(line, r\":\") for line in input]\n",
    "input = Dict([(i[1], parse(Int, i[2])) for i in input])\n",
    "input"
   ]
  },
  {
   "cell_type": "code",
   "execution_count": 3,
   "id": "0c1a9a6f",
   "metadata": {
    "ExecuteTime": {
     "end_time": "2022-03-29T17:08:46.026000+02:00",
     "start_time": "2022-03-29T15:08:44.596Z"
    }
   },
   "outputs": [
    {
     "data": {
      "text/plain": [
       "21-element Vector{String}:\n",
       " \"Weapons:    Cost  Damage  Armor\"\n",
       " \"Dagger        8     4       0\"\n",
       " \"Shortsword   10     5       0\"\n",
       " \"Warhammer    25     6       0\"\n",
       " \"Longsword    40     7       0\"\n",
       " \"Greataxe     74     8       0\"\n",
       " \"\"\n",
       " \"Armor:      Cost  Damage  Armor\"\n",
       " \"Leather      13     0       1\"\n",
       " \"Chainmail    31     0       2\"\n",
       " \"Splintmail   53     0       3\"\n",
       " \"Bandedmail   75     0       4\"\n",
       " \"Platemail   102     0       5\"\n",
       " \"\"\n",
       " \"Rings:      Cost  Damage  Armor\"\n",
       " \"Damage +1    25     1       0\"\n",
       " \"Damage +2    50     2       0\"\n",
       " \"Damage +3   100     3       0\"\n",
       " \"Defense +1   20     0       1\"\n",
       " \"Defense +2   40     0       2\"\n",
       " \"Defense +3   80     0       3\""
      ]
     },
     "execution_count": 3,
     "metadata": {},
     "output_type": "execute_result"
    }
   ],
   "source": [
    "shop = readlines(\"shop.txt\")\n",
    "shop"
   ]
  },
  {
   "cell_type": "code",
   "execution_count": 5,
   "id": "596933fd",
   "metadata": {
    "ExecuteTime": {
     "end_time": "2022-03-29T17:09:25.375000+02:00",
     "start_time": "2022-03-29T15:09:23.903Z"
    }
   },
   "outputs": [
    {
     "data": {
      "text/plain": [
       "3×19 Matrix{Int64}:\n",
       " 8  10  25  40  74  13  31  53  75  102  0  25  50  100  20  40  80  0  0\n",
       " 4   5   6   7   8   0   0   0   0    0  0   1   2    3   0   0   0  0  0\n",
       " 0   0   0   0   0   1   2   3   4    5  0   0   0    0   1   2   3  0  0"
      ]
     },
     "execution_count": 5,
     "metadata": {},
     "output_type": "execute_result"
    }
   ],
   "source": [
    "weapons = reduce(hcat, \n",
    "    [parse.(Int, split(m, r\"   *\")[2:end]) for m in shop[2:6]])\n",
    "armors = reduce(hcat, \n",
    "    [parse.(Int, split(m, r\"   *\")[2:end]) for m in shop[9:13]])\n",
    "armors = hcat(armors, [0,0,0])\n",
    "rings = reduce(hcat, \n",
    "    [parse.(Int, split(m, r\"   *\")[2:end]) for m in shop[16:end]])\n",
    "rings = hcat(rings, [0,0,0], [0,0,0])\n",
    "shopp = hcat(weapons, armors, rings)\n",
    "costs = shopp[1, :]\n",
    "damage = shopp[2, :]\n",
    "armor = shopp[3, :]\n",
    "shopp"
   ]
  },
  {
   "cell_type": "code",
   "execution_count": 6,
   "id": "2b334b61",
   "metadata": {
    "ExecuteTime": {
     "end_time": "2022-03-29T17:09:28.580000+02:00",
     "start_time": "2022-03-29T15:09:25.549Z"
    }
   },
   "outputs": [
    {
     "data": {
      "text/plain": [
       "(true, 0.55)"
      ]
     },
     "execution_count": 6,
     "metadata": {},
     "output_type": "execute_result"
    }
   ],
   "source": [
    "function ttk(damage)\n",
    "    dmg = max(1, damage-input[\"Armor\"])\n",
    "    return ceil(input[\"HP\"]/dmg)\n",
    "end\n",
    "\n",
    "function ttd(armor)\n",
    "    bossdmg = max(1,input[\"Damage\"]-armor)\n",
    "    return ceil(hp/bossdmg)\n",
    "end\n",
    "@memoize function works(damage, armor)\n",
    "    _ttk = ttk(damage)\n",
    "    _ttd = ttd(armor)\n",
    "    return _ttk <= _ttd, _ttk/_ttd\n",
    "end\n",
    "\n",
    "works(4,7)"
   ]
  },
  {
   "cell_type": "code",
   "execution_count": 45,
   "id": "bf6c1a97",
   "metadata": {
    "ExecuteTime": {
     "end_time": "2022-03-29T17:26:55.409000+02:00",
     "start_time": "2022-03-29T15:26:54.962Z"
    }
   },
   "outputs": [
    {
     "data": {
      "text/plain": [
       "3×616 Matrix{Int64}:\n",
       " 8  10  21  23  25  28  30  33  35  38  …  307  307  316  322  326  329  356\n",
       " 4   5   4   5   6   4   5   5   6   6      11    9   11   10   13   11   11\n",
       " 0   0   1   1   0   1   1   0   0   1       6    8    7    8    5    7    8"
      ]
     },
     "execution_count": 45,
     "metadata": {},
     "output_type": "execute_result"
    }
   ],
   "source": [
    "perms = reduce(hcat, sort(unique([w .+ a .+ r1 .+ r2 for (r2i, r2) in enumerate(eachcol(rings)) \n",
    "                                                     for (r1i, r1) in enumerate(eachcol(rings)) \n",
    "                                                     for a in eachcol(armors) \n",
    "                                                     for w in eachcol(weapons) if r1i != r2i]),\n",
    "                        lt = (x,y) -> isless(x[1], y[1])))"
   ]
  },
  {
   "cell_type": "code",
   "execution_count": 50,
   "id": "146ae369",
   "metadata": {
    "ExecuteTime": {
     "end_time": "2022-03-29T17:29:20.566000+02:00",
     "start_time": "2022-03-29T15:29:20.531Z"
    }
   },
   "outputs": [
    {
     "data": {
      "text/plain": [
       "111"
      ]
     },
     "execution_count": 50,
     "metadata": {},
     "output_type": "execute_result"
    }
   ],
   "source": [
    "function cheapest_win(perms)\n",
    "    for gear in eachcol(perms)\n",
    "        if works(gear[2], gear[3])[1]\n",
    "            return gear[1]\n",
    "        end\n",
    "    end\n",
    "    return Inf\n",
    "end\n",
    "cheapest_win(perms)"
   ]
  },
  {
   "cell_type": "code",
   "execution_count": 49,
   "id": "62d7a4b2",
   "metadata": {
    "ExecuteTime": {
     "end_time": "2022-03-29T17:27:14.600000+02:00",
     "start_time": "2022-03-29T15:27:14.561Z"
    }
   },
   "outputs": [
    {
     "data": {
      "text/plain": [
       "188"
      ]
     },
     "execution_count": 49,
     "metadata": {},
     "output_type": "execute_result"
    }
   ],
   "source": [
    "function expensive_loss(perms)\n",
    "    for gear in eachcol(perms[1:end, end:-1:1])\n",
    "        if !works(gear[2], gear[3])[1]\n",
    "            return gear[1]\n",
    "        end\n",
    "    end\n",
    "    return 0\n",
    "end\n",
    "expensive_loss(perms)"
   ]
  },
  {
   "cell_type": "code",
   "execution_count": null,
   "id": "2c1f9e6e",
   "metadata": {
    "ExecuteTime": {
     "end_time": "2022-03-29T17:23:01.539000+02:00",
     "start_time": "2022-03-29T15:23:01.538Z"
    }
   },
   "outputs": [],
   "source": []
  },
  {
   "cell_type": "code",
   "execution_count": null,
   "id": "d3b50a10",
   "metadata": {
    "ExecuteTime": {
     "end_time": "2022-03-29T17:12:09.658000+02:00",
     "start_time": "2022-03-29T15:12:09.610Z"
    }
   },
   "outputs": [],
   "source": []
  },
  {
   "cell_type": "code",
   "execution_count": null,
   "id": "4ea9b8b3",
   "metadata": {
    "ExecuteTime": {
     "end_time": "2022-03-29T17:21:25.811000+02:00",
     "start_time": "2022-03-29T15:21:25.774Z"
    }
   },
   "outputs": [],
   "source": []
  },
  {
   "cell_type": "code",
   "execution_count": null,
   "id": "54705f5e",
   "metadata": {},
   "outputs": [],
   "source": []
  },
  {
   "cell_type": "code",
   "execution_count": null,
   "id": "00ed0948",
   "metadata": {},
   "outputs": [],
   "source": []
  }
 ],
 "metadata": {
  "kernelspec": {
   "display_name": "Julia 1.7.0",
   "language": "julia",
   "name": "julia-1.7"
  },
  "language_info": {
   "file_extension": ".jl",
   "mimetype": "application/julia",
   "name": "julia",
   "version": "1.7.0"
  }
 },
 "nbformat": 4,
 "nbformat_minor": 5
}
