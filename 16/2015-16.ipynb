{
 "cells": [
  {
   "cell_type": "code",
   "execution_count": 112,
   "id": "deb196be",
   "metadata": {
    "ExecuteTime": {
     "end_time": "2022-03-24T15:32:51.074000+01:00",
     "start_time": "2022-03-24T14:32:49.558Z"
    },
    "scrolled": true
   },
   "outputs": [
    {
     "data": {
      "text/html": [
       "<div class=\"data-frame\"><p>500 rows × 11 columns (omitted printing of 2 columns)</p><table class=\"data-frame\"><thead><tr><th></th><th>number</th><th>vizslas</th><th>cars</th><th>children</th><th>perfumes</th><th>akitas</th><th>pomeranians</th><th>goldfish</th><th>cats</th></tr><tr><th></th><th title=\"Int64\">Int64</th><th title=\"Union{Missing, Int64}\">Int64?</th><th title=\"Union{Missing, Int64}\">Int64?</th><th title=\"Union{Missing, Int64}\">Int64?</th><th title=\"Union{Missing, Int64}\">Int64?</th><th title=\"Union{Missing, Int64}\">Int64?</th><th title=\"Union{Missing, Int64}\">Int64?</th><th title=\"Union{Missing, Int64}\">Int64?</th><th title=\"Union{Missing, Int64}\">Int64?</th></tr></thead><tbody><tr><th>1</th><td>1</td><td>7</td><td>8</td><td>1</td><td><em>missing</em></td><td><em>missing</em></td><td><em>missing</em></td><td><em>missing</em></td><td><em>missing</em></td></tr><tr><th>2</th><td>2</td><td><em>missing</em></td><td><em>missing</em></td><td>5</td><td>10</td><td>10</td><td><em>missing</em></td><td><em>missing</em></td><td><em>missing</em></td></tr><tr><th>3</th><td>3</td><td>1</td><td>5</td><td><em>missing</em></td><td><em>missing</em></td><td><em>missing</em></td><td>4</td><td><em>missing</em></td><td><em>missing</em></td></tr><tr><th>4</th><td>4</td><td><em>missing</em></td><td><em>missing</em></td><td>8</td><td>3</td><td><em>missing</em></td><td><em>missing</em></td><td>5</td><td><em>missing</em></td></tr><tr><th>5</th><td>5</td><td>2</td><td><em>missing</em></td><td><em>missing</em></td><td>6</td><td>7</td><td><em>missing</em></td><td><em>missing</em></td><td><em>missing</em></td></tr><tr><th>6</th><td>6</td><td>0</td><td><em>missing</em></td><td><em>missing</em></td><td>2</td><td>1</td><td><em>missing</em></td><td><em>missing</em></td><td><em>missing</em></td></tr><tr><th>7</th><td>7</td><td><em>missing</em></td><td>4</td><td><em>missing</em></td><td>8</td><td><em>missing</em></td><td><em>missing</em></td><td>10</td><td><em>missing</em></td></tr><tr><th>8</th><td>8</td><td><em>missing</em></td><td><em>missing</em></td><td>2</td><td>7</td><td><em>missing</em></td><td><em>missing</em></td><td><em>missing</em></td><td>1</td></tr><tr><th>9</th><td>9</td><td><em>missing</em></td><td><em>missing</em></td><td><em>missing</em></td><td><em>missing</em></td><td><em>missing</em></td><td>3</td><td>10</td><td><em>missing</em></td></tr><tr><th>10</th><td>10</td><td><em>missing</em></td><td><em>missing</em></td><td><em>missing</em></td><td><em>missing</em></td><td>7</td><td>4</td><td><em>missing</em></td><td><em>missing</em></td></tr><tr><th>11</th><td>11</td><td><em>missing</em></td><td>6</td><td><em>missing</em></td><td>4</td><td><em>missing</em></td><td><em>missing</em></td><td>1</td><td><em>missing</em></td></tr><tr><th>12</th><td>12</td><td><em>missing</em></td><td><em>missing</em></td><td><em>missing</em></td><td>2</td><td><em>missing</em></td><td><em>missing</em></td><td><em>missing</em></td><td><em>missing</em></td></tr><tr><th>13</th><td>13</td><td>2</td><td><em>missing</em></td><td><em>missing</em></td><td><em>missing</em></td><td>10</td><td>0</td><td><em>missing</em></td><td><em>missing</em></td></tr><tr><th>14</th><td>14</td><td><em>missing</em></td><td>2</td><td>4</td><td>3</td><td><em>missing</em></td><td><em>missing</em></td><td><em>missing</em></td><td><em>missing</em></td></tr><tr><th>15</th><td>15</td><td><em>missing</em></td><td>5</td><td>8</td><td><em>missing</em></td><td><em>missing</em></td><td><em>missing</em></td><td>2</td><td><em>missing</em></td></tr><tr><th>16</th><td>16</td><td>5</td><td>0</td><td><em>missing</em></td><td><em>missing</em></td><td><em>missing</em></td><td><em>missing</em></td><td>9</td><td><em>missing</em></td></tr><tr><th>17</th><td>17</td><td><em>missing</em></td><td><em>missing</em></td><td><em>missing</em></td><td>6</td><td><em>missing</em></td><td><em>missing</em></td><td><em>missing</em></td><td>5</td></tr><tr><th>18</th><td>18</td><td><em>missing</em></td><td>0</td><td><em>missing</em></td><td>8</td><td><em>missing</em></td><td>7</td><td><em>missing</em></td><td><em>missing</em></td></tr><tr><th>19</th><td>19</td><td><em>missing</em></td><td><em>missing</em></td><td><em>missing</em></td><td>4</td><td><em>missing</em></td><td><em>missing</em></td><td>5</td><td><em>missing</em></td></tr><tr><th>20</th><td>20</td><td>4</td><td><em>missing</em></td><td><em>missing</em></td><td><em>missing</em></td><td>4</td><td><em>missing</em></td><td><em>missing</em></td><td><em>missing</em></td></tr><tr><th>21</th><td>21</td><td><em>missing</em></td><td><em>missing</em></td><td><em>missing</em></td><td><em>missing</em></td><td><em>missing</em></td><td>7</td><td>10</td><td><em>missing</em></td></tr><tr><th>22</th><td>22</td><td>0</td><td>4</td><td><em>missing</em></td><td>3</td><td><em>missing</em></td><td><em>missing</em></td><td><em>missing</em></td><td><em>missing</em></td></tr><tr><th>23</th><td>23</td><td>8</td><td><em>missing</em></td><td><em>missing</em></td><td><em>missing</em></td><td>2</td><td><em>missing</em></td><td><em>missing</em></td><td><em>missing</em></td></tr><tr><th>24</th><td>24</td><td><em>missing</em></td><td><em>missing</em></td><td>7</td><td><em>missing</em></td><td>1</td><td><em>missing</em></td><td><em>missing</em></td><td><em>missing</em></td></tr><tr><th>25</th><td>25</td><td><em>missing</em></td><td><em>missing</em></td><td><em>missing</em></td><td><em>missing</em></td><td>2</td><td><em>missing</em></td><td>3</td><td><em>missing</em></td></tr><tr><th>26</th><td>26</td><td>4</td><td><em>missing</em></td><td><em>missing</em></td><td><em>missing</em></td><td><em>missing</em></td><td>4</td><td><em>missing</em></td><td><em>missing</em></td></tr><tr><th>27</th><td>27</td><td><em>missing</em></td><td>0</td><td><em>missing</em></td><td><em>missing</em></td><td>5</td><td><em>missing</em></td><td><em>missing</em></td><td><em>missing</em></td></tr><tr><th>28</th><td>28</td><td><em>missing</em></td><td>2</td><td><em>missing</em></td><td>6</td><td><em>missing</em></td><td><em>missing</em></td><td><em>missing</em></td><td>0</td></tr><tr><th>29</th><td>29</td><td>1</td><td><em>missing</em></td><td><em>missing</em></td><td><em>missing</em></td><td>1</td><td><em>missing</em></td><td><em>missing</em></td><td><em>missing</em></td></tr><tr><th>30</th><td>30</td><td><em>missing</em></td><td>9</td><td><em>missing</em></td><td>9</td><td><em>missing</em></td><td><em>missing</em></td><td><em>missing</em></td><td><em>missing</em></td></tr><tr><th>&vellip;</th><td>&vellip;</td><td>&vellip;</td><td>&vellip;</td><td>&vellip;</td><td>&vellip;</td><td>&vellip;</td><td>&vellip;</td><td>&vellip;</td><td>&vellip;</td></tr></tbody></table></div>"
      ],
      "text/latex": [
       "\\begin{tabular}{r|cccccccccc}\n",
       "\t& number & vizslas & cars & children & perfumes & akitas & pomeranians & goldfish & cats & \\\\\n",
       "\t\\hline\n",
       "\t& Int64 & Int64? & Int64? & Int64? & Int64? & Int64? & Int64? & Int64? & Int64? & \\\\\n",
       "\t\\hline\n",
       "\t1 & 1 & 7 & 8 & 1 & \\emph{missing} & \\emph{missing} & \\emph{missing} & \\emph{missing} & \\emph{missing} & $\\dots$ \\\\\n",
       "\t2 & 2 & \\emph{missing} & \\emph{missing} & 5 & 10 & 10 & \\emph{missing} & \\emph{missing} & \\emph{missing} & $\\dots$ \\\\\n",
       "\t3 & 3 & 1 & 5 & \\emph{missing} & \\emph{missing} & \\emph{missing} & 4 & \\emph{missing} & \\emph{missing} & $\\dots$ \\\\\n",
       "\t4 & 4 & \\emph{missing} & \\emph{missing} & 8 & 3 & \\emph{missing} & \\emph{missing} & 5 & \\emph{missing} & $\\dots$ \\\\\n",
       "\t5 & 5 & 2 & \\emph{missing} & \\emph{missing} & 6 & 7 & \\emph{missing} & \\emph{missing} & \\emph{missing} & $\\dots$ \\\\\n",
       "\t6 & 6 & 0 & \\emph{missing} & \\emph{missing} & 2 & 1 & \\emph{missing} & \\emph{missing} & \\emph{missing} & $\\dots$ \\\\\n",
       "\t7 & 7 & \\emph{missing} & 4 & \\emph{missing} & 8 & \\emph{missing} & \\emph{missing} & 10 & \\emph{missing} & $\\dots$ \\\\\n",
       "\t8 & 8 & \\emph{missing} & \\emph{missing} & 2 & 7 & \\emph{missing} & \\emph{missing} & \\emph{missing} & 1 & $\\dots$ \\\\\n",
       "\t9 & 9 & \\emph{missing} & \\emph{missing} & \\emph{missing} & \\emph{missing} & \\emph{missing} & 3 & 10 & \\emph{missing} & $\\dots$ \\\\\n",
       "\t10 & 10 & \\emph{missing} & \\emph{missing} & \\emph{missing} & \\emph{missing} & 7 & 4 & \\emph{missing} & \\emph{missing} & $\\dots$ \\\\\n",
       "\t11 & 11 & \\emph{missing} & 6 & \\emph{missing} & 4 & \\emph{missing} & \\emph{missing} & 1 & \\emph{missing} & $\\dots$ \\\\\n",
       "\t12 & 12 & \\emph{missing} & \\emph{missing} & \\emph{missing} & 2 & \\emph{missing} & \\emph{missing} & \\emph{missing} & \\emph{missing} & $\\dots$ \\\\\n",
       "\t13 & 13 & 2 & \\emph{missing} & \\emph{missing} & \\emph{missing} & 10 & 0 & \\emph{missing} & \\emph{missing} & $\\dots$ \\\\\n",
       "\t14 & 14 & \\emph{missing} & 2 & 4 & 3 & \\emph{missing} & \\emph{missing} & \\emph{missing} & \\emph{missing} & $\\dots$ \\\\\n",
       "\t15 & 15 & \\emph{missing} & 5 & 8 & \\emph{missing} & \\emph{missing} & \\emph{missing} & 2 & \\emph{missing} & $\\dots$ \\\\\n",
       "\t16 & 16 & 5 & 0 & \\emph{missing} & \\emph{missing} & \\emph{missing} & \\emph{missing} & 9 & \\emph{missing} & $\\dots$ \\\\\n",
       "\t17 & 17 & \\emph{missing} & \\emph{missing} & \\emph{missing} & 6 & \\emph{missing} & \\emph{missing} & \\emph{missing} & 5 & $\\dots$ \\\\\n",
       "\t18 & 18 & \\emph{missing} & 0 & \\emph{missing} & 8 & \\emph{missing} & 7 & \\emph{missing} & \\emph{missing} & $\\dots$ \\\\\n",
       "\t19 & 19 & \\emph{missing} & \\emph{missing} & \\emph{missing} & 4 & \\emph{missing} & \\emph{missing} & 5 & \\emph{missing} & $\\dots$ \\\\\n",
       "\t20 & 20 & 4 & \\emph{missing} & \\emph{missing} & \\emph{missing} & 4 & \\emph{missing} & \\emph{missing} & \\emph{missing} & $\\dots$ \\\\\n",
       "\t21 & 21 & \\emph{missing} & \\emph{missing} & \\emph{missing} & \\emph{missing} & \\emph{missing} & 7 & 10 & \\emph{missing} & $\\dots$ \\\\\n",
       "\t22 & 22 & 0 & 4 & \\emph{missing} & 3 & \\emph{missing} & \\emph{missing} & \\emph{missing} & \\emph{missing} & $\\dots$ \\\\\n",
       "\t23 & 23 & 8 & \\emph{missing} & \\emph{missing} & \\emph{missing} & 2 & \\emph{missing} & \\emph{missing} & \\emph{missing} & $\\dots$ \\\\\n",
       "\t24 & 24 & \\emph{missing} & \\emph{missing} & 7 & \\emph{missing} & 1 & \\emph{missing} & \\emph{missing} & \\emph{missing} & $\\dots$ \\\\\n",
       "\t25 & 25 & \\emph{missing} & \\emph{missing} & \\emph{missing} & \\emph{missing} & 2 & \\emph{missing} & 3 & \\emph{missing} & $\\dots$ \\\\\n",
       "\t26 & 26 & 4 & \\emph{missing} & \\emph{missing} & \\emph{missing} & \\emph{missing} & 4 & \\emph{missing} & \\emph{missing} & $\\dots$ \\\\\n",
       "\t27 & 27 & \\emph{missing} & 0 & \\emph{missing} & \\emph{missing} & 5 & \\emph{missing} & \\emph{missing} & \\emph{missing} & $\\dots$ \\\\\n",
       "\t28 & 28 & \\emph{missing} & 2 & \\emph{missing} & 6 & \\emph{missing} & \\emph{missing} & \\emph{missing} & 0 & $\\dots$ \\\\\n",
       "\t29 & 29 & 1 & \\emph{missing} & \\emph{missing} & \\emph{missing} & 1 & \\emph{missing} & \\emph{missing} & \\emph{missing} & $\\dots$ \\\\\n",
       "\t30 & 30 & \\emph{missing} & 9 & \\emph{missing} & 9 & \\emph{missing} & \\emph{missing} & \\emph{missing} & \\emph{missing} & $\\dots$ \\\\\n",
       "\t$\\dots$ & $\\dots$ & $\\dots$ & $\\dots$ & $\\dots$ & $\\dots$ & $\\dots$ & $\\dots$ & $\\dots$ & $\\dots$ &  \\\\\n",
       "\\end{tabular}\n"
      ],
      "text/plain": [
       "\u001b[1m500×11 DataFrame\u001b[0m\n",
       "\u001b[1m Row \u001b[0m│\u001b[1m number \u001b[0m\u001b[1m vizslas \u001b[0m\u001b[1m cars    \u001b[0m\u001b[1m children \u001b[0m\u001b[1m perfumes \u001b[0m\u001b[1m akitas  \u001b[0m\u001b[1m pomeranians \u001b[0m\u001b[1m gol\u001b[0m ⋯\n",
       "\u001b[1m     \u001b[0m│\u001b[90m Int64  \u001b[0m\u001b[90m Int64?  \u001b[0m\u001b[90m Int64?  \u001b[0m\u001b[90m Int64?   \u001b[0m\u001b[90m Int64?   \u001b[0m\u001b[90m Int64?  \u001b[0m\u001b[90m Int64?      \u001b[0m\u001b[90m Int\u001b[0m ⋯\n",
       "─────┼──────────────────────────────────────────────────────────────────────────\n",
       "   1 │      1        7        8         1 \u001b[90m  missing \u001b[0m\u001b[90m missing \u001b[0m\u001b[90m     missing \u001b[0m\u001b[90m  mi\u001b[0m ⋯\n",
       "   2 │      2 \u001b[90m missing \u001b[0m\u001b[90m missing \u001b[0m        5        10       10 \u001b[90m     missing \u001b[0m\u001b[90m  mi\u001b[0m\n",
       "   3 │      3        1        5 \u001b[90m  missing \u001b[0m\u001b[90m  missing \u001b[0m\u001b[90m missing \u001b[0m           4 \u001b[90m  mi\u001b[0m\n",
       "   4 │      4 \u001b[90m missing \u001b[0m\u001b[90m missing \u001b[0m        8         3 \u001b[90m missing \u001b[0m\u001b[90m     missing \u001b[0m\n",
       "   5 │      5        2 \u001b[90m missing \u001b[0m\u001b[90m  missing \u001b[0m        6        7 \u001b[90m     missing \u001b[0m\u001b[90m  mi\u001b[0m ⋯\n",
       "   6 │      6        0 \u001b[90m missing \u001b[0m\u001b[90m  missing \u001b[0m        2        1 \u001b[90m     missing \u001b[0m\u001b[90m  mi\u001b[0m\n",
       "   7 │      7 \u001b[90m missing \u001b[0m       4 \u001b[90m  missing \u001b[0m        8 \u001b[90m missing \u001b[0m\u001b[90m     missing \u001b[0m\n",
       "   8 │      8 \u001b[90m missing \u001b[0m\u001b[90m missing \u001b[0m        2         7 \u001b[90m missing \u001b[0m\u001b[90m     missing \u001b[0m\u001b[90m  mi\u001b[0m\n",
       "   9 │      9 \u001b[90m missing \u001b[0m\u001b[90m missing \u001b[0m\u001b[90m  missing \u001b[0m\u001b[90m  missing \u001b[0m\u001b[90m missing \u001b[0m           3      ⋯\n",
       "  10 │     10 \u001b[90m missing \u001b[0m\u001b[90m missing \u001b[0m\u001b[90m  missing \u001b[0m\u001b[90m  missing \u001b[0m       7            4 \u001b[90m  mi\u001b[0m\n",
       "  11 │     11 \u001b[90m missing \u001b[0m       6 \u001b[90m  missing \u001b[0m        4 \u001b[90m missing \u001b[0m\u001b[90m     missing \u001b[0m\n",
       "  ⋮  │   ⋮        ⋮        ⋮        ⋮         ⋮         ⋮          ⋮           ⋱\n",
       " 491 │    491        8 \u001b[90m missing \u001b[0m\u001b[90m  missing \u001b[0m        6 \u001b[90m missing \u001b[0m\u001b[90m     missing \u001b[0m\u001b[90m  mi\u001b[0m\n",
       " 492 │    492 \u001b[90m missing \u001b[0m       9 \u001b[90m  missing \u001b[0m        3 \u001b[90m missing \u001b[0m\u001b[90m     missing \u001b[0m\u001b[90m  mi\u001b[0m ⋯\n",
       " 493 │    493        6 \u001b[90m missing \u001b[0m\u001b[90m  missing \u001b[0m\u001b[90m  missing \u001b[0m\u001b[90m missing \u001b[0m\u001b[90m     missing \u001b[0m\n",
       " 494 │    494 \u001b[90m missing \u001b[0m\u001b[90m missing \u001b[0m\u001b[90m  missing \u001b[0m        5 \u001b[90m missing \u001b[0m\u001b[90m     missing \u001b[0m\u001b[90m  mi\u001b[0m\n",
       " 495 │    495        4 \u001b[90m missing \u001b[0m        9 \u001b[90m  missing \u001b[0m       8 \u001b[90m     missing \u001b[0m\u001b[90m  mi\u001b[0m\n",
       " 496 │    496        2 \u001b[90m missing \u001b[0m\u001b[90m  missing \u001b[0m        7 \u001b[90m missing \u001b[0m           1 \u001b[90m  mi\u001b[0m ⋯\n",
       " 497 │    497        6 \u001b[90m missing \u001b[0m\u001b[90m  missing \u001b[0m\u001b[90m  missing \u001b[0m       4 \u001b[90m     missing \u001b[0m\u001b[90m  mi\u001b[0m\n",
       " 498 │    498 \u001b[90m missing \u001b[0m\u001b[90m missing \u001b[0m\u001b[90m  missing \u001b[0m\u001b[90m  missing \u001b[0m       8            7 \u001b[90m  mi\u001b[0m\n",
       " 499 │    499        7 \u001b[90m missing \u001b[0m\u001b[90m  missing \u001b[0m        6 \u001b[90m missing \u001b[0m\u001b[90m     missing \u001b[0m\n",
       " 500 │    500        1        1 \u001b[90m  missing \u001b[0m        6 \u001b[90m missing \u001b[0m\u001b[90m     missing \u001b[0m\u001b[90m  mi\u001b[0m ⋯\n",
       "\u001b[36m                                                  4 columns and 479 rows omitted\u001b[0m"
      ]
     },
     "execution_count": 112,
     "metadata": {},
     "output_type": "execute_result"
    }
   ],
   "source": [
    "using DataFrames\n",
    "p1 = r\"Sue (?P<number>\\d*): (?P<values>.*)\"\n",
    "p2 = r\",? ?(?P<name>.*?): (?P<val>\\d*)\"\n",
    "aunts_list = [match(p1, line) for line in readlines(\"input.txt\")]\n",
    "aunts = DataFrame()\n",
    "dicts = [Dict{String, Int64}((m[\"name\"] => parse(Int, m[\"val\"]\n",
    "                    )) for m in eachmatch(p2, a[\"values\"])) for a in aunts_list]\n",
    "for (i, row) in enumerate(dicts)\n",
    "    row[\"number\"] = parse(Int, aunts_list[i][\"number\"])\n",
    "    push!(aunts, row, cols=:union)\n",
    "end\n",
    "aunts"
   ]
  },
  {
   "cell_type": "code",
   "execution_count": 113,
   "id": "93ac20b2",
   "metadata": {
    "ExecuteTime": {
     "end_time": "2022-03-24T15:32:56.734000+01:00",
     "start_time": "2022-03-24T14:32:56.591Z"
    }
   },
   "outputs": [
    {
     "data": {
      "text/plain": [
       "Dict{String, Int64} with 10 entries:\n",
       "  \"samoyeds\"    => 2\n",
       "  \"akitas\"      => 0\n",
       "  \"pomeranians\" => 3\n",
       "  \"trees\"       => 3\n",
       "  \"perfumes\"    => 1\n",
       "  \"vizslas\"     => 0\n",
       "  \"cars\"        => 2\n",
       "  \"goldfish\"    => 5\n",
       "  \"cats\"        => 7\n",
       "  \"children\"    => 3"
      ]
     },
     "execution_count": 113,
     "metadata": {},
     "output_type": "execute_result"
    }
   ],
   "source": [
    "pkey = r\"(.*): (\\d*)\"\n",
    "matches = [match(pkey, line) for line in readlines(\"key.txt\")]\n",
    "key = Dict{String, Int}(m[1] => parse(Int, m[2]) for m in matches)\n",
    "key"
   ]
  },
  {
   "cell_type": "code",
   "execution_count": 114,
   "id": "2c48bc25",
   "metadata": {
    "ExecuteTime": {
     "end_time": "2022-03-24T15:32:56.822000+01:00",
     "start_time": "2022-03-24T14:32:56.763Z"
    },
    "scrolled": false
   },
   "outputs": [
    {
     "data": {
      "text/html": [
       "<div class=\"data-frame\"><p>1 rows × 11 columns (omitted printing of 2 columns)</p><table class=\"data-frame\"><thead><tr><th></th><th>number</th><th>vizslas</th><th>cars</th><th>children</th><th>perfumes</th><th>akitas</th><th>pomeranians</th><th>goldfish</th><th>cats</th></tr><tr><th></th><th title=\"Int64\">Int64</th><th title=\"Union{Missing, Int64}\">Int64?</th><th title=\"Union{Missing, Int64}\">Int64?</th><th title=\"Union{Missing, Int64}\">Int64?</th><th title=\"Union{Missing, Int64}\">Int64?</th><th title=\"Union{Missing, Int64}\">Int64?</th><th title=\"Union{Missing, Int64}\">Int64?</th><th title=\"Union{Missing, Int64}\">Int64?</th><th title=\"Union{Missing, Int64}\">Int64?</th></tr></thead><tbody><tr><th>1</th><td>213</td><td>0</td><td><em>missing</em></td><td>3</td><td><em>missing</em></td><td><em>missing</em></td><td><em>missing</em></td><td>5</td><td><em>missing</em></td></tr></tbody></table></div>"
      ],
      "text/latex": [
       "\\begin{tabular}{r|cccccccccc}\n",
       "\t& number & vizslas & cars & children & perfumes & akitas & pomeranians & goldfish & cats & \\\\\n",
       "\t\\hline\n",
       "\t& Int64 & Int64? & Int64? & Int64? & Int64? & Int64? & Int64? & Int64? & Int64? & \\\\\n",
       "\t\\hline\n",
       "\t1 & 213 & 0 & \\emph{missing} & 3 & \\emph{missing} & \\emph{missing} & \\emph{missing} & 5 & \\emph{missing} & $\\dots$ \\\\\n",
       "\\end{tabular}\n"
      ],
      "text/plain": [
       "\u001b[1m1×11 DataFrame\u001b[0m\n",
       "\u001b[1m Row \u001b[0m│\u001b[1m number \u001b[0m\u001b[1m vizslas \u001b[0m\u001b[1m cars    \u001b[0m\u001b[1m children \u001b[0m\u001b[1m perfumes \u001b[0m\u001b[1m akitas  \u001b[0m\u001b[1m pomeranians \u001b[0m\u001b[1m gol\u001b[0m ⋯\n",
       "\u001b[1m     \u001b[0m│\u001b[90m Int64  \u001b[0m\u001b[90m Int64?  \u001b[0m\u001b[90m Int64?  \u001b[0m\u001b[90m Int64?   \u001b[0m\u001b[90m Int64?   \u001b[0m\u001b[90m Int64?  \u001b[0m\u001b[90m Int64?      \u001b[0m\u001b[90m Int\u001b[0m ⋯\n",
       "─────┼──────────────────────────────────────────────────────────────────────────\n",
       "   1 │    213        0 \u001b[90m missing \u001b[0m        3 \u001b[90m  missing \u001b[0m\u001b[90m missing \u001b[0m\u001b[90m     missing \u001b[0m     ⋯\n",
       "\u001b[36m                                                               4 columns omitted\u001b[0m"
      ]
     },
     "execution_count": 114,
     "metadata": {},
     "output_type": "execute_result"
    }
   ],
   "source": [
    "valid = aunts\n",
    "for (k, v) in key\n",
    "    valid = valid[valid[!, k] .=== v .|| ismissing.(valid[!, k]), :]\n",
    "end\n",
    "valid"
   ]
  },
  {
   "cell_type": "code",
   "execution_count": 118,
   "id": "292c9238",
   "metadata": {
    "ExecuteTime": {
     "end_time": "2022-03-24T15:41:09.742000+01:00",
     "start_time": "2022-03-24T14:41:09.557Z"
    }
   },
   "outputs": [
    {
     "data": {
      "text/html": [
       "<div class=\"data-frame\"><p>1 rows × 11 columns (omitted printing of 2 columns)</p><table class=\"data-frame\"><thead><tr><th></th><th>number</th><th>vizslas</th><th>cars</th><th>children</th><th>perfumes</th><th>akitas</th><th>pomeranians</th><th>goldfish</th><th>cats</th></tr><tr><th></th><th title=\"Int64\">Int64</th><th title=\"Union{Missing, Int64}\">Int64?</th><th title=\"Union{Missing, Int64}\">Int64?</th><th title=\"Union{Missing, Int64}\">Int64?</th><th title=\"Union{Missing, Int64}\">Int64?</th><th title=\"Union{Missing, Int64}\">Int64?</th><th title=\"Union{Missing, Int64}\">Int64?</th><th title=\"Union{Missing, Int64}\">Int64?</th><th title=\"Union{Missing, Int64}\">Int64?</th></tr></thead><tbody><tr><th>1</th><td>323</td><td><em>missing</em></td><td><em>missing</em></td><td><em>missing</em></td><td>1</td><td><em>missing</em></td><td><em>missing</em></td><td>0</td><td><em>missing</em></td></tr></tbody></table></div>"
      ],
      "text/latex": [
       "\\begin{tabular}{r|cccccccccc}\n",
       "\t& number & vizslas & cars & children & perfumes & akitas & pomeranians & goldfish & cats & \\\\\n",
       "\t\\hline\n",
       "\t& Int64 & Int64? & Int64? & Int64? & Int64? & Int64? & Int64? & Int64? & Int64? & \\\\\n",
       "\t\\hline\n",
       "\t1 & 323 & \\emph{missing} & \\emph{missing} & \\emph{missing} & 1 & \\emph{missing} & \\emph{missing} & 0 & \\emph{missing} & $\\dots$ \\\\\n",
       "\\end{tabular}\n"
      ],
      "text/plain": [
       "\u001b[1m1×11 DataFrame\u001b[0m\n",
       "\u001b[1m Row \u001b[0m│\u001b[1m number \u001b[0m\u001b[1m vizslas \u001b[0m\u001b[1m cars    \u001b[0m\u001b[1m children \u001b[0m\u001b[1m perfumes \u001b[0m\u001b[1m akitas  \u001b[0m\u001b[1m pomeranians \u001b[0m\u001b[1m gol\u001b[0m ⋯\n",
       "\u001b[1m     \u001b[0m│\u001b[90m Int64  \u001b[0m\u001b[90m Int64?  \u001b[0m\u001b[90m Int64?  \u001b[0m\u001b[90m Int64?   \u001b[0m\u001b[90m Int64?   \u001b[0m\u001b[90m Int64?  \u001b[0m\u001b[90m Int64?      \u001b[0m\u001b[90m Int\u001b[0m ⋯\n",
       "─────┼──────────────────────────────────────────────────────────────────────────\n",
       "   1 │    323 \u001b[90m missing \u001b[0m\u001b[90m missing \u001b[0m\u001b[90m  missing \u001b[0m        1 \u001b[90m missing \u001b[0m\u001b[90m     missing \u001b[0m     ⋯\n",
       "\u001b[36m                                                               4 columns omitted\u001b[0m"
      ]
     },
     "execution_count": 118,
     "metadata": {},
     "output_type": "execute_result"
    }
   ],
   "source": [
    "valid = aunts\n",
    "greater_than = [\"cats\", \"trees\"]\n",
    "less_than = [\"pomeranians\", \"goldfish\"]\n",
    "for (k, v) in key\n",
    "    if k in greater_than\n",
    "        valid = valid[.!isless.(valid[!, k], v), :]\n",
    "        continue\n",
    "    end\n",
    "    if k in less_than\n",
    "        valid = valid[isless.(valid[!, k], v) .|| ismissing.(valid[!, k]), :]\n",
    "        continue\n",
    "    end\n",
    "    valid = valid[valid[!, k] .=== v .|| ismissing.(valid[!, k]), :]\n",
    "end\n",
    "valid"
   ]
  },
  {
   "cell_type": "code",
   "execution_count": null,
   "id": "3fa10daa",
   "metadata": {
    "ExecuteTime": {
     "end_time": "2022-03-24T15:15:02.489000+01:00",
     "start_time": "2022-03-24T14:15:01.827Z"
    },
    "scrolled": false
   },
   "outputs": [],
   "source": []
  },
  {
   "cell_type": "code",
   "execution_count": null,
   "id": "3fe84980",
   "metadata": {
    "ExecuteTime": {
     "end_time": "2022-03-21T12:27:10.500000+01:00",
     "start_time": "2022-03-21T11:27:10.496Z"
    }
   },
   "outputs": [],
   "source": []
  },
  {
   "cell_type": "code",
   "execution_count": null,
   "id": "b319a42c",
   "metadata": {
    "ExecuteTime": {
     "end_time": "2022-03-21T11:54:53.956000+01:00",
     "start_time": "2022-03-21T10:54:53.602Z"
    }
   },
   "outputs": [],
   "source": []
  },
  {
   "cell_type": "code",
   "execution_count": null,
   "id": "fba5a0e6",
   "metadata": {},
   "outputs": [],
   "source": []
  }
 ],
 "metadata": {
  "kernelspec": {
   "display_name": "Julia 1.7.0",
   "language": "julia",
   "name": "julia-1.7"
  },
  "language_info": {
   "file_extension": ".jl",
   "mimetype": "application/julia",
   "name": "julia",
   "version": "1.7.0"
  }
 },
 "nbformat": 4,
 "nbformat_minor": 5
}
