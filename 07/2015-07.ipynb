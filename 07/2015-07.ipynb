{
 "cells": [
  {
   "cell_type": "code",
   "execution_count": 4,
   "id": "deb196be",
   "metadata": {
    "scrolled": true
   },
   "outputs": [
    {
     "data": {
      "text/plain": [
       "339×1 Matrix{Any}:\n",
       " \"NOT dq -> dr\"\n",
       " \"kg OR kf -> kh\"\n",
       " \"ep OR eo -> eq\"\n",
       " \"44430 -> b\"\n",
       " \"NOT gs -> gt\"\n",
       " \"dd OR do -> dp\"\n",
       " \"eg AND ei -> ej\"\n",
       " \"y AND ae -> ag\"\n",
       " \"jx AND jz -> ka\"\n",
       " \"lf RSHIFT 2 -> lg\"\n",
       " \"z AND aa -> ac\"\n",
       " \"dy AND ej -> el\"\n",
       " \"bj OR bi -> bk\"\n",
       " ⋮\n",
       " \"hz RSHIFT 3 -> ib\"\n",
       " \"hz RSHIFT 2 -> ia\"\n",
       " \"fq OR fr -> fs\"\n",
       " \"hx OR hy -> hz\"\n",
       " \"he AND hp -> hr\"\n",
       " \"gj RSHIFT 5 -> gm\"\n",
       " \"hf AND hl -> hn\"\n",
       " \"hv OR hu -> hw\"\n",
       " \"NOT hj -> hk\"\n",
       " \"gj RSHIFT 3 -> gl\"\n",
       " \"fo RSHIFT 3 -> fq\"\n",
       " \"he RSHIFT 2 -> hf\""
      ]
     },
     "execution_count": 4,
     "metadata": {},
     "output_type": "execute_result"
    }
   ],
   "source": [
    "using DelimitedFiles\n",
    "\n",
    "data = readdlm(\"input.txt\", '\\n')"
   ]
  },
  {
   "cell_type": "code",
   "execution_count": 5,
   "id": "2c48bc25",
   "metadata": {
    "scrolled": true
   },
   "outputs": [
    {
     "name": "stdout",
     "output_type": "stream",
     "text": [
      "3176\n"
     ]
    }
   ],
   "source": [
    "p = r\"([a-z]*?)(\\d*?) ?([A-Z]*?) ?(\\d*?) ?([a-z]*?) -> ([a-z]+)\"\n",
    "d = Dict{String, UInt32}(\"\"=>0)\n",
    "matches = []\n",
    "for line in data\n",
    "    m = match(p, line)\n",
    "    push!(matches, m)\n",
    "end\n",
    "\n",
    "while !isempty(matches)\n",
    "    m = popfirst!(matches)\n",
    "\n",
    "    if (m[1] != \"\" && !(m[1] in keys(d))) || (m[5] != \"\" && !(m[5] in keys(d)))\n",
    "        push!(matches, m)\n",
    "        continue\n",
    "    end\n",
    "    t = m[6]\n",
    "    op = m[3]\n",
    "    k1 = d[m[1]]\n",
    "    k2 = d[m[5]]\n",
    "    num1 = tryparse(Int, m[2])\n",
    "    num2 = tryparse(Int, m[4])\n",
    "\n",
    "    if (m[1] == \"\" && num1 != nothing)\n",
    "       k1 = num1 \n",
    "    end\n",
    "    \n",
    "    \n",
    "    if op == \"AND\"\n",
    "        d[t] = k1 & k2\n",
    "    end\n",
    "    if op == \"OR\"\n",
    "        d[t] = k1 | k2\n",
    "    end\n",
    "    if op == \"NOT\"\n",
    "        d[t] = ~k2\n",
    "    end\n",
    "    if op == \"LSHIFT\"\n",
    "        d[t] = k1 << num2\n",
    "    end\n",
    "    if op == \"RSHIFT\"\n",
    "        d[t] = k1 >>> num2\n",
    "    end\n",
    "    if op == \"\"\n",
    "        if num2 == nothing\n",
    "            d[t] = k2\n",
    "        else\n",
    "            d[t] = num2\n",
    "        end\n",
    "    end\n",
    "end\n",
    "println(Dict{Any, Int}(d)[\"a\"])"
   ]
  },
  {
   "cell_type": "code",
   "execution_count": 16,
   "id": "292c9238",
   "metadata": {},
   "outputs": [
    {
     "name": "stdout",
     "output_type": "stream",
     "text": [
      "14710\n"
     ]
    }
   ],
   "source": [
    "d2 = Dict{String, UInt32}(\"\"=>0)\n",
    "d2[\"b\"] = d[\"a\"]\n",
    "p = r\"([a-z]*?)(\\d*?) ?([A-Z]*?) ?(\\d*?) ?([a-z]*?) -> ([a-z]+)\"\n",
    "matches = []\n",
    "for line in data\n",
    "    m = match(p, line)\n",
    "    push!(matches, m)\n",
    "end\n",
    "\n",
    "while !isempty(matches)\n",
    "    m = popfirst!(matches)\n",
    "    if m[6] == \"b\"\n",
    "        continue\n",
    "    end\n",
    "    if (m[1] != \"\" && !(m[1] in keys(d2))) || (m[5] != \"\" && !(m[5] in keys(d2)))\n",
    "        push!(matches, m)\n",
    "        continue\n",
    "    end\n",
    "    t = m[6]\n",
    "    op = m[3]\n",
    "    k1 = d2[m[1]]\n",
    "    k2 = d2[m[5]]\n",
    "    num1 = tryparse(Int, m[2])\n",
    "    num2 = tryparse(Int, m[4])\n",
    "\n",
    "    if (m[1] == \"\" && num1 != nothing)\n",
    "       k1 = num1 \n",
    "    end\n",
    "        \n",
    "    if op == \"AND\"\n",
    "        d2[t] = k1 & k2\n",
    "    end\n",
    "    if op == \"OR\"\n",
    "        d2[t] = k1 | k2\n",
    "    end\n",
    "    if op == \"NOT\"\n",
    "        d2[t] = ~k2\n",
    "    end\n",
    "    if op == \"LSHIFT\"\n",
    "        d2[t] = k1 << num2\n",
    "    end\n",
    "    if op == \"RSHIFT\"\n",
    "        d2[t] = k1 >>> num2\n",
    "    end\n",
    "    if op == \"\"\n",
    "        if num2 == nothing\n",
    "            d2[t] = k2\n",
    "        else\n",
    "            d2[t] = num2\n",
    "        end\n",
    "    end\n",
    "    \n",
    "    \n",
    "end\n",
    "println(Dict{Any, Int}(d2)[\"a\"])"
   ]
  },
  {
   "cell_type": "code",
   "execution_count": null,
   "id": "587793fc",
   "metadata": {
    "scrolled": true
   },
   "outputs": [],
   "source": []
  },
  {
   "cell_type": "code",
   "execution_count": null,
   "id": "3fa10daa",
   "metadata": {
    "scrolled": false
   },
   "outputs": [],
   "source": []
  },
  {
   "cell_type": "code",
   "execution_count": null,
   "id": "b319a42c",
   "metadata": {},
   "outputs": [],
   "source": []
  }
 ],
 "metadata": {
  "kernelspec": {
   "display_name": "Julia 1.7.0",
   "language": "julia",
   "name": "julia-1.7"
  },
  "language_info": {
   "file_extension": ".jl",
   "mimetype": "application/julia",
   "name": "julia",
   "version": "1.7.0"
  }
 },
 "nbformat": 4,
 "nbformat_minor": 5
}
